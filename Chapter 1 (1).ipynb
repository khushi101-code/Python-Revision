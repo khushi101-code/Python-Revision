{
 "cells": [
  {
   "cell_type": "markdown",
   "id": "484b5fc9-65bc-471b-b83f-835f22e0099f",
   "metadata": {},
   "source": [
    "Chapter1 : Python Revision Tour"
   ]
  },
  {
   "cell_type": "markdown",
   "id": "3cd1f991-eb7a-411c-bd22-10bc352102b6",
   "metadata": {},
   "source": [
    "Q1 What are tokens in python? How many types of token are allowed in Python?"
   ]
  },
  {
   "cell_type": "markdown",
   "id": "c23eb717-f3e2-4eb3-a480-fccd53c5271c",
   "metadata": {},
   "source": [
    "Ans- The smallest individual unit in a program is known as a token or a lexical unit.\n",
    "Python has following tokens:\n",
    "*Keywords\n",
    "*Identifiers\n",
    "*Literals\n",
    "*Operators\n",
    "*Punctuators"
   ]
  },
  {
   "cell_type": "code",
   "execution_count": null,
   "id": "ab89dc1b-17e3-4465-b834-d37fb1b85ff5",
   "metadata": {},
   "outputs": [],
   "source": []
  }
 ],
 "metadata": {
  "kernelspec": {
   "display_name": "Python 3 (ipykernel)",
   "language": "python",
   "name": "python3"
  },
  "language_info": {
   "codemirror_mode": {
    "name": "ipython",
    "version": 3
   },
   "file_extension": ".py",
   "mimetype": "text/x-python",
   "name": "python",
   "nbconvert_exporter": "python",
   "pygments_lexer": "ipython3",
   "version": "3.10.8"
  }
 },
 "nbformat": 4,
 "nbformat_minor": 5
}
