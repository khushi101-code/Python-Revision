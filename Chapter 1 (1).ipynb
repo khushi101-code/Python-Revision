{
 "cells": [
  {
   "cell_type": "markdown",
   "id": "484b5fc9-65bc-471b-b83f-835f22e0099f",
   "metadata": {},
   "source": [
    "Chapter1 : Python Revision Tour"
   ]
  },
  {
   "cell_type": "markdown",
   "id": "3cd1f991-eb7a-411c-bd22-10bc352102b6",
   "metadata": {},
   "source": [
    "Q1 What are tokens in python? How many types of token are allowed in Python?"
   ]
  },
  {
   "cell_type": "markdown",
   "id": "c23eb717-f3e2-4eb3-a480-fccd53c5271c",
   "metadata": {},
   "source": [
    "Ans- The smallest individual unit in a program is known as a token or a lexical unit.\n",
    "Python has following tokens:\n",
    "*Keywords\n",
    "*Identifiers\n",
    "*Literals\n",
    "*Operators\n",
    "*Punctuators"
   ]
  },
  {
   "cell_type": "markdown",
   "id": "e9674c50-2799-4b16-ad0e-2c78935352fc",
   "metadata": {},
   "source": [
    "Q2 How are keywords different from identifiers?"
   ]
  },
  {
   "cell_type": "markdown",
   "id": "e1a5ae57-63c0-4d3d-a8bd-a99bd429c2b5",
   "metadata": {},
   "source": [
    "Ans - Keywords and identifiers serve different purposes in programming:\n",
    "Keywords are reserved words with predefined meanings, used only for their intended purpose (e.g., if, while, return).\n",
    "\n",
    "Identifiers are user-defined names for variables, functions, and other entities, chosen by the programmer (e.g., myVariable, calculateSum)."
   ]
  },
  {
   "cell_type": "markdown",
   "id": "38903edc-9d96-40cf-bf8a-729f9f6e185e",
   "metadata": {},
   "source": [
    "Q3 What are literals in python? How many types of literals are allowed in python?"
   ]
  },
  {
   "cell_type": "markdown",
   "id": "60840952-331d-431d-a920-00e615fc0d8f",
   "metadata": {},
   "source": [
    "Ans - Literals in Python are fixed values that are assigned directly to variables. Python supports several types of literals:\n",
    "\n",
    "1. String Literals: Represent sequences of characters (eg `'hello'`, `\"world\"`).\n",
    "2. Numeric Literals: Represent numbers, which include:\n",
    "   - Integer literals (e.g., `42`)\n",
    "   - Floating-point literals (e.g., `3.14`)\n",
    "   - Complex literals (e.g., `1+2j`)\n",
    "3. Boolean Literals: Represent truth values (`True` and `False`).\n",
    "4. Special None Literal: Represents the absence of a value (`None`)."
   ]
  },
  {
   "cell_type": "markdown",
   "id": "edd5faff-a91f-4ef1-bd16-daf07cd7a17f",
   "metadata": {},
   "source": [
    "Q3 How are strings literals represented in Python? Give examples to support your answer."
   ]
  },
  {
   "cell_type": "markdown",
   "id": "f0fa18c0-0e3a-419a-921b-e13c868d0e8e",
   "metadata": {},
   "source": [
    "Ans - String literals in Python are represented by enclosing text in single quotes (`' '`), double quotes (`\" \"`), triple single quotes (`''' '''`), or triple double quotes (`\"\"\" \"\"\"`). Here are examples:\n",
    "\n",
    "- Single quotes: `'hello'`\n",
    "- Double quotes: `\"world\"`\n",
    "- Triple single quotes: `'''This is a multi-line string'''`\n",
    "- Triple double quotes: `\"\"\"This is another multi-line string\"\"\"`"
   ]
  },
  {
   "cell_type": "markdown",
   "id": "e7f356c6-6b1d-4384-a9b4-f59e27408480",
   "metadata": {},
   "source": [
    "Q4 What are operators? What is their function?"
   ]
  },
  {
   "cell_type": "markdown",
   "id": "df75667f-e372-40d2-8a69-77314b936fcb",
   "metadata": {},
   "source": [
    "Ans - Operators are symbols or keywords in programming that perform operations on operands (values or variables). Their function is to manipulate data and variables to produce a result. Examples include arithmetic operations (`+`, `-`), comparisons (`==`, `>`), and logical operations (`and`, `or`)."
   ]
  },
  {
   "cell_type": "markdown",
   "id": "be9bd9d5-6cdf-472c-a785-d4b63eeda65f",
   "metadata": {},
   "source": [
    "Q5 What is an expression and a statement?\n"
   ]
  },
  {
   "cell_type": "markdown",
   "id": "bb7bb7ba-4d80-4798-b015-f08ce61c4bf5",
   "metadata": {},
   "source": [
    "Ans - Expression: A combination of values, variables, and operators that evaluates to a single value (e.g., `2 + 3`, `x * y`).\n",
    "\n",
    "Statement: A complete line of code that performs an action, such as assigning a value, calling a function, or controlling the flow (e.g., `x = 5`, `print(x)`, `if x > 0:`)."
   ]
  },
  {
   "cell_type": "markdown",
   "id": "9aed43cc-8f47-4ba7-8deb-71e616a66cd3",
   "metadata": {},
   "source": [
    "Q6 What all components can a python program contain?"
   ]
  },
  {
   "cell_type": "code",
   "execution_count": null,
   "id": "9178afdb-da66-4145-9b45-30e8d2690494",
   "metadata": {},
   "outputs": [],
   "source": [
    "Ans - A Python program can contain the following components\n",
    "\n",
    "1. Variables: Store data values.\n",
    "2. Data Types: Define the type of data (e.g., int, float, string).\n",
    "3. Operators: Perform operations on variables and values.\n",
    "4. Expressions: Combinations of variables, values, and operators that produce a result.\n",
    "5. Statements: Instructions that perform actions.\n",
    "6. Functions: Blocks of reusable code that perform specific tasks.\n",
    "7. Classes and Objects: Define and instantiate custom data types and behaviors (object-oriented programming).\n",
    "8. Control Flow: Direct the execution path (e.g., if statements, loops).\n",
    "9. Modules and Libraries: Import and use external code.\n",
    "10. Comments: Annotate code with explanations.\n"
   ]
  },
  {
   "cell_type": "markdown",
   "id": "5191df76-6ea7-4d24-ad6c-f759a7366e7d",
   "metadata": {},
   "source": [
    "Q7 What are data types? How are they important?\n"
   ]
  },
  {
   "cell_type": "markdown",
   "id": "ff3a020d-b330-41b0-9af7-db14ffd1aadc",
   "metadata": {},
   "source": [
    "Ans - Data types are means to identify type of data and set of valid operations for it.Python offers following built in core data types.\n",
    "1. Numbers\n",
    "2. String\n",
    "3. List\n",
    "4. Tuple\n",
    "5. Dictionary\n",
    "They are important because they define the operations that can be performed on the data and ensure that the data is used correctly and efficiently in programming. Proper use of data types helps prevent errors, optimize performance, and improve code readability and maintainability."
   ]
  },
  {
   "cell_type": "markdown",
   "id": "f4ae9b3d-c479-46db-9bfe-f15fe9c8267b",
   "metadata": {},
   "source": [
    "Q8 What is a statement? What is the significance of an empty statement?"
   ]
  },
  {
   "cell_type": "markdown",
   "id": "3fc14f12-65d5-4a69-8c10-ca2b7ec63255",
   "metadata": {},
   "source": [
    "Ans - A statement is an instruction given to the computer to perform any kind of action.\n",
    "An empty statement is useful in situation where the code requires a statement but logic does not.To fill these two requirements simultaneously, empty statement is used."
   ]
  },
  {
   "cell_type": "markdown",
   "id": "fbf2bae8-6abe-4346-beff-e5f80ce85715",
   "metadata": {},
   "source": [
    "Q9 What do you understand by the term iteration?"
   ]
  },
  {
   "cell_type": "markdown",
   "id": "7849e7af-6f33-4560-90b2-08704cdb7b96",
   "metadata": {},
   "source": [
    "Ans - Iteration refers to repetition of a set of statements for a sequence of values or as long as a condition is true."
   ]
  },
  {
   "cell_type": "markdown",
   "id": "4db516bc-0aa1-4e8a-96bb-c6b8588e65e4",
   "metadata": {},
   "source": [
    "Q10 What are variables? How are they important for a program?"
   ]
  },
  {
   "cell_type": "markdown",
   "id": "07888646-4ddd-4d7b-bb40-51fb82bdadb4",
   "metadata": {},
   "source": [
    "Ans - Variables are named storage locations in a computer's memory that hold data values. They are important because they allow programmers to store, retrieve, and manipulate data dynamically during the execution of a program. \n",
    "Variables make code more flexible, readable, and easier to maintain by providing a way to reference and manage data efficiently."
   ]
  },
  {
   "cell_type": "markdown",
   "id": "2ff7e182-bf3d-4e5c-a4ee-bcf1b434ca4b",
   "metadata": {},
   "source": [
    "Q11 Find the outputs of the following programs:\n"
   ]
  },
  {
   "cell_type": "code",
   "execution_count": null,
   "id": "aefda87e-3ee1-4798-9ef4-cffa5933b9ca",
   "metadata": {},
   "outputs": [],
   "source": [
    "count =0\n",
    "while count < 10:\n",
    "    print(\"Hello\")\n",
    "    count += 1"
   ]
  },
  {
   "cell_type": "code",
   "execution_count": null,
   "id": "d5166e9d-8bde-44f5-bfdc-6dff7965ce94",
   "metadata": {},
   "outputs": [],
   "source": [
    "#Ans -\n",
    "Hello\n",
    "Hello\n",
    "Hello\n",
    "Hello\n",
    "Hello\n",
    "Hello\n",
    "Hello\n",
    "Hello\n",
    "Hello\n",
    "Hello"
   ]
  },
  {
   "cell_type": "code",
   "execution_count": null,
   "id": "d6361ca7-be4c-42ba-a391-9bf9720efdb9",
   "metadata": {},
   "outputs": [],
   "source": [
    "for p in range(1,10):\n",
    "    print(p)"
   ]
  },
  {
   "cell_type": "code",
   "execution_count": null,
   "id": "31db6f75-5a2a-483d-9770-4aa1cb74e176",
   "metadata": {},
   "outputs": [],
   "source": [
    "#Ans -\n",
    "1\n",
    "2\n",
    "3\n",
    "4\n",
    "5\n",
    "6\n",
    "7\n",
    "8\n",
    "9"
   ]
  },
  {
   "cell_type": "code",
   "execution_count": null,
   "id": "a277bdd3-9d7a-41f7-ba89-f0eee7cb3dc2",
   "metadata": {},
   "outputs": [],
   "source": [
    "x = [1,2,3]\n",
    "counter = 0\n",
    "while counter < len(x):\n",
    "    print(x[counter]* '%')\n",
    "    for y in x:\n",
    "        print(y* '*')\n",
    "        counter += 1"
   ]
  },
  {
   "cell_type": "code",
   "execution_count": null,
   "id": "b57e3b11-384c-46d4-b6f2-6976bdec94d1",
   "metadata": {},
   "outputs": [],
   "source": [
    "#Ans\n",
    "%\n",
    "*\n",
    "**\n",
    "***"
   ]
  },
  {
   "cell_type": "code",
   "execution_count": null,
   "id": "dd8c7023-1c97-46df-8f94-72b66c96f1fa",
   "metadata": {},
   "outputs": [],
   "source": [
    "for x in 'Lamp':\n",
    "    print(str.upper(x))"
   ]
  },
  {
   "cell_type": "code",
   "execution_count": null,
   "id": "067134ca-5291-4eba-a3cb-9c65234d14f2",
   "metadata": {},
   "outputs": [],
   "source": [
    "#Ans\n",
    "L\n",
    "A\n",
    "M\n",
    "P"
   ]
  },
  {
   "cell_type": "markdown",
   "id": "3e2d30d9-8ef4-44e5-a0b2-aed48e2509de",
   "metadata": {},
   "source": [
    "Q12 Write a program that returns True if the input is an even number, False otherwise."
   ]
  },
  {
   "cell_type": "code",
   "execution_count": null,
   "id": "ad395f9f-8f08-42c7-b31c-b0438bcdef16",
   "metadata": {},
   "outputs": [],
   "source": [
    "#Ans\n",
    "input_number = int(input(\"Enter a number: \"))\n",
    "print(is_even(input_number))"
   ]
  },
  {
   "cell_type": "markdown",
   "id": "05d3ce8e-9f31-4afd-ba33-13e1c7d4ad49",
   "metadata": {},
   "source": [
    "Q13 Write a program that prints a table on two columns - table that helps converting miles into kilometres."
   ]
  },
  {
   "cell_type": "code",
   "execution_count": null,
   "id": "efbf081d-9e6b-4800-b03b-68a0a3b00130",
   "metadata": {},
   "outputs": [],
   "source": [
    "#Ans\n",
    "print(\"Miles  Kilometers\")\n",
    "print(\"-----------------\")\n",
    "for miles in range(1, 11):\n",
    "    print(f\"{miles:<5}  {miles * 1.60934:.2f}\")"
   ]
  },
  {
   "cell_type": "markdown",
   "id": "f17f98e8-9e0f-4c09-b53f-5b5fbb85af52",
   "metadata": {},
   "source": [
    "Q14 Write a Python program that calculates and prints the number of seconds in a year.\n"
   ]
  },
  {
   "cell_type": "code",
   "execution_count": null,
   "id": "8074bcec-f1f0-44ea-9ca4-de8e44de47b8",
   "metadata": {},
   "outputs": [],
   "source": [
    "#Ans\n",
    "# Define constants\n",
    "seconds_per_minute = 60\n",
    "minutes_per_hour = 60\n",
    "hours_per_day = 24\n",
    "days_per_year = 365\n",
    "\n",
    "# Calculate seconds in a year\n",
    "seconds_per_year = seconds_per_minute * minutes_per_hour * hours_per_day * days_per_year\n",
    "\n",
    "# Print the result\n",
    "print(f\"There are {seconds_per_year} seconds in a year.\")\n"
   ]
  },
  {
   "cell_type": "markdown",
   "id": "810f668b-2f3f-4460-bb41-d08e8fc724d0",
   "metadata": {},
   "source": [
    "Q15 Write a program that repeatedly asks from users some numbers until string 'done' is typed.The program should print the sum of all numbers entered."
   ]
  },
  {
   "cell_type": "code",
   "execution_count": null,
   "id": "cf891128-6c13-416e-bc63-60977a159181",
   "metadata": {},
   "outputs": [],
   "source": [
    "#Ans\n",
    "total = 0\n",
    "\n",
    "while True:\n",
    "    user_input = input(\"Enter a number (or type 'done' to finish): \")\n",
    "    \n",
    "    if user_input.lower() == 'done':\n",
    "        break\n",
    "    \n",
    "    try:\n",
    "        number = float(user_input)\n",
    "        total += number\n",
    "    except ValueError:\n",
    "        print(\"Invalid input. Please enter a valid number.\")\n",
    "\n",
    "print(f\"The sum of all numbers entered is: {total}\")\n",
    "\n"
   ]
  },
  {
   "cell_type": "code",
   "execution_count": null,
   "id": "94a260bd-b8f1-4d5f-bc0e-7e683bc473a6",
   "metadata": {},
   "outputs": [],
   "source": []
  }
 ],
 "metadata": {
  "kernelspec": {
   "display_name": "Python 3 (ipykernel)",
   "language": "python",
   "name": "python3"
  },
  "language_info": {
   "codemirror_mode": {
    "name": "ipython",
    "version": 3
   },
   "file_extension": ".py",
   "mimetype": "text/x-python",
   "name": "python",
   "nbconvert_exporter": "python",
   "pygments_lexer": "ipython3",
   "version": "3.10.8"
  }
 },
 "nbformat": 4,
 "nbformat_minor": 5
}
