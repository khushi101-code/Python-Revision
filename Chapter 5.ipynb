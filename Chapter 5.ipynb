{
 "cells": [
  {
   "cell_type": "markdown",
   "id": "460b10b5-2c08-4961-85cb-fdc6bb514f56",
   "metadata": {},
   "source": [
    "Chapter5 : File Handling"
   ]
  },
  {
   "cell_type": "markdown",
   "id": "4e5a2e6d-090a-4093-83b3-6d12d2c7fb8c",
   "metadata": {},
   "source": [
    "Q1 What is the difference between read() and readlinest() function?"
   ]
  },
  {
   "cell_type": "markdown",
   "id": "f61140f0-1d48-4690-a68f-67826aad57fd",
   "metadata": {},
   "source": [
    "Ans - The read() reads from a file in read mode, and stores its contents in a string type varaible.The readlines() function, reads from a file in read mode and returns a list of all lines in the file."
   ]
  },
  {
   "cell_type": "markdown",
   "id": "6667ffae-1542-49e2-8526-8fa00f4823ea",
   "metadata": {},
   "source": [
    "Q2 What is the difference between readline() and readlines() function?"
   ]
  },
  {
   "cell_type": "markdown",
   "id": "81a3602a-35bc-4477-b348-518ffc1d30a8",
   "metadata": {},
   "source": [
    "Ans - The readline() function reads from a file in read mode and returns the next line in the file or a blank strinf if there are no more lines. (The returned data is of strings type)\n",
    "The readlines() function, also reads from a file in read mode and returns a list of all lines in the file.(The returned data is of list type)"
   ]
  },
  {
   "cell_type": "markdown",
   "id": "18e0feaa-ac64-4666-96f5-c2c9b070d5fe",
   "metadata": {},
   "source": [
    "Q3 Write a single loop to display all the contents of a text file e:\\poem.txt after removing leading and trailing whitespaces."
   ]
  },
  {
   "cell_type": "code",
   "execution_count": null,
   "id": "3f2e64c2-61b2-4e40-a121-b2581d76bfc8",
   "metadata": {},
   "outputs": [],
   "source": [
    "#Ans - \n",
    "for line in file(\"poem.txt\"):\n",
    "    print(line.strip())"
   ]
  },
  {
   "cell_type": "markdown",
   "id": "011f76e7-2f64-4703-9a4f-38ab3cee4d2f",
   "metadata": {},
   "source": [
    "Q4 Write a function stats() that accepts a filename and reports the file's longest line."
   ]
  },
  {
   "cell_type": "code",
   "execution_count": null,
   "id": "b4f61f78-2c07-4cbc-b997-c5733d4221af",
   "metadata": {},
   "outputs": [],
   "source": [
    "#Ans - \n",
    "def stats(filename):\n",
    "    longest = \" \"\n",
    "    for line in file(filename):\n",
    "        if len(line) > len(longest):\n",
    "            longest = line\n",
    "            print(\"longest line's length =\", len(longest))\n",
    "            print(longest)"
   ]
  },
  {
   "cell_type": "markdown",
   "id": "e5a970a7-3579-4bb9-9fb6-1ab3a83efbb4",
   "metadata": {},
   "source": [
    "Q5 Write a function remove_lowercase() that accepts two filenames, and copies all line sthat do not start wiht a lowercase letter from the first file into the second."
   ]
  },
  {
   "cell_type": "code",
   "execution_count": null,
   "id": "b25c974e-45d1-4614-8c6b-4f512c60d899",
   "metadata": {},
   "outputs": [],
   "source": [
    "#Ans - \n",
    "def remove_lowercase(infile,outfile):\n",
    "    output = file(outfile, \"w\")\n",
    "    for line in file(infile):\n",
    "        if not line[0] in \"abcdefghijklmnopqrstuvwxyz\":\n",
    "            output.write(line)\n",
    "        output.close()"
   ]
  },
  {
   "cell_type": "markdown",
   "id": "33726191-ecb3-411c-a428-83e5295cf56c",
   "metadata": {},
   "source": [
    "Q6 Write a program to display all the records in a file along with line/record number."
   ]
  },
  {
   "cell_type": "code",
   "execution_count": null,
   "id": "6d43e23c-b04d-46f9-8dd1-ed7a6091f83b",
   "metadata": {},
   "outputs": [],
   "source": [
    "#Ans -\n",
    "fh = open(\"Result.det\", \"r\")\n",
    "count = 0\n",
    "rec = \" \"\n",
    "while True:\n",
    "    rec = fh.readline()\n",
    "    if rec == \" \":\n",
    "        break\n",
    "        count = count + 1\n",
    "        print(count, rec, end = \" \")\n",
    "        fh.close()"
   ]
  },
  {
   "cell_type": "markdown",
   "id": "5293e2e6-5747-4210-a518-9e7420eb88d3",
   "metadata": {},
   "source": [
    "Q7 Read the code given below and answer the question:"
   ]
  },
  {
   "cell_type": "code",
   "execution_count": null,
   "id": "0e58e43a-2635-467d-b403-2059e61dc7cb",
   "metadata": {},
   "outputs": [],
   "source": [
    "fh = open(\"main.txt\", \"w\")\n",
    "fh.write(\"Bye\")\n",
    "fh.close()"
   ]
  },
  {
   "cell_type": "markdown",
   "id": "177386df-feed-4dc7-bebf-2ffcbd1715c8",
   "metadata": {},
   "source": [
    "If the file contains \"GOOD\" before execution, what will be the contents of the file after execution of this code?"
   ]
  },
  {
   "cell_type": "markdown",
   "id": "243787c9-e6ae-4e7f-b77d-bfdc58e11058",
   "metadata": {},
   "source": [
    "Ans - The file would now contain \"Bye\" only, because when an existing file is opened in write mode (\"w\"), it truncates the existing data the file."
   ]
  },
  {
   "cell_type": "markdown",
   "id": "7b778204-6d71-420b-b98b-9c5da47e5d29",
   "metadata": {},
   "source": [
    "Q8 Write code to print just the last line of a text file \"data.txt\"."
   ]
  },
  {
   "cell_type": "code",
   "execution_count": null,
   "id": "82ca7ebf-87e1-47da-8f3b-d0df08537214",
   "metadata": {},
   "outputs": [],
   "source": [
    "#Ans -\n",
    "fin = open(\"data.txt\", \"r\")\n",
    "linelist = fin.readlines()\n",
    "print(\"last line =\", linelist[-4])"
   ]
  },
  {
   "cell_type": "markdown",
   "id": "ee12abdd-e497-4726-9b1e-e0a366545791",
   "metadata": {},
   "source": [
    "Q9 Write a function in python to count the number of lines in a text file \"STORY.TXT\" which is starting with an alphabet \"A\"."
   ]
  },
  {
   "cell_type": "code",
   "execution_count": null,
   "id": "35a2bcbb-6157-4c16-a992-ef1b56cd7d74",
   "metadata": {},
   "outputs": [],
   "source": [
    "#Ans - \n",
    "def COUNTLINES():\n",
    "    file = open('STORY.TXT', 'r')\n",
    "    lines = file.readlines()\n",
    "    count = 0\n",
    "    for w in lines:\n",
    "        if w[0] == \"A\" or w[0] == \"a\":\n",
    "            count =  count + 1\n",
    "            print(\"Total lines started with 'A' or 'a'\", count)\n",
    "            file.close()"
   ]
  },
  {
   "cell_type": "markdown",
   "id": "73200ec6-20ae-46d9-855e-eb6ce86e1039",
   "metadata": {},
   "source": [
    "Q10 Write a program that copies a text file \"source.txt\" onto \"target.txt\" barring the lines starting with a \"@\" sign."
   ]
  },
  {
   "cell_type": "code",
   "execution_count": 1,
   "id": "bc70ac32-554b-43cd-98bb-2b0ebccac108",
   "metadata": {},
   "outputs": [],
   "source": [
    "#Ans -\n",
    "def filter(oldfile, newfile):\n",
    "    fin = open(oldfile, \"r\")\n",
    "    fout = open(newfile, \"w\")\n",
    "    while True:\n",
    "        text = fin.readline()\n",
    "        if len(text) == 0:\n",
    "            break\n",
    "        if text[0] == \"@\":\n",
    "            continue\n",
    "        fout.write(text)\n",
    "        fin.close()\n",
    "        filter(\"source.txt\", \"target.txt\")"
   ]
  }
 ],
 "metadata": {
  "kernelspec": {
   "display_name": "Python 3 (ipykernel)",
   "language": "python",
   "name": "python3"
  },
  "language_info": {
   "codemirror_mode": {
    "name": "ipython",
    "version": 3
   },
   "file_extension": ".py",
   "mimetype": "text/x-python",
   "name": "python",
   "nbconvert_exporter": "python",
   "pygments_lexer": "ipython3",
   "version": "3.10.8"
  }
 },
 "nbformat": 4,
 "nbformat_minor": 5
}
