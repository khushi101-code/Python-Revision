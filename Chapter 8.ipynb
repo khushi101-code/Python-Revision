{
 "cells": [
  {
   "cell_type": "markdown",
   "id": "a8c03f6b-f95d-4b45-abe0-4fde54a57919",
   "metadata": {},
   "source": [
    "Chapter8: Data Visualization using Pylot"
   ]
  },
  {
   "cell_type": "markdown",
   "id": "3a2ef494-630e-441d-a0c3-f91fd809bb7b",
   "metadata": {},
   "source": [
    "Q1 What is data visualization? What is its significance?"
   ]
  },
  {
   "cell_type": "markdown",
   "id": "4b1232ad-68b9-49aa-a592-d6fe589b1f0b",
   "metadata": {},
   "source": [
    "Ans - Data visualization is a general term that decribes any effort to help people understand the significance of data by placing it in a visual context.In simple words,Data visualization is the process of displaying data/information in graphical charts, figures and bars.\n",
    "Patterns, trends and coorelations that might go undetected in text-based data can be exposed and recognized easier with data visualization techniques or tools such as line chart, bar chart, pie chart, histogram, scatter chart etc.Thus with data visualization tools, information can be processed in efficient manner and hence better decisions can be made."
   ]
  },
  {
   "cell_type": "markdown",
   "id": "dddacc33-9775-433e-ba62-004d16448c00",
   "metadata": {},
   "source": [
    "Q2 What is Python's support for Data visualization?"
   ]
  },
  {
   "cell_type": "markdown",
   "id": "b6f695d9-9d1d-4bdb-b80c-bf72e37e5cd1",
   "metadata": {},
   "source": [
    "Ans - Python support data visualizations by providing some useful libraries for visualization.Most commonly used data visualization library is matplotlib.Matplotlib is a python library, also sometimes known as plotting library.The matplotlib library offers very extensive range of 2D plot types and output formats.It offers complete 2D support along with limited 3D graphic support.It is useful in producing publication quality figures in interactive environment across platforms.It can also be used for animations as well.\n",
    "There are many other libraries of Python that can be used for data visualization but matplotlib is very popular for 2D plotting."
   ]
  },
  {
   "cell_type": "markdown",
   "id": "7c953dbe-eece-44ae-a053-978601ec42cd",
   "metadata": {},
   "source": [
    "Q3 What is Pyplot?Is it a Python library?"
   ]
  },
  {
   "cell_type": "markdown",
   "id": "89d7baac-355a-40d7-99a6-d93ea507d7c6",
   "metadata": {},
   "source": [
    "Ans - The pyplot is one of the interfaces of matplotlib library of Python.This interface offers simple MATLAB style functions that can be used for plotting various types of charts using underlying matplotlib library's functionality.\n",
    "Pyplot is an interface, i.e, a collection of methods for accessing and using underlying functionality of a library, not a library.The matplotlib library has many other interfaces too, along with pyplot interface."
   ]
  },
  {
   "cell_type": "markdown",
   "id": "ed571199-5aed-4498-a398-d4d4864fda07",
   "metadata": {},
   "source": [
    "Q4 Name some commonly used chart types."
   ]
  },
  {
   "cell_type": "markdown",
   "id": "0d9075d4-b2d5-4d9d-af8a-ebfe03d91336",
   "metadata": {},
   "source": [
    "Some commonly used chart types are line chart, bar chart, pie chart, scatter chart etc."
   ]
  },
  {
   "cell_type": "markdown",
   "id": "780c1c4d-3acb-4cdc-b643-3c565b929ebf",
   "metadata": {},
   "source": [
    "Q5 Name the functions you will use to create a (1)line chart, (2)bar chart"
   ]
  },
  {
   "cell_type": "markdown",
   "id": "db4770af-897c-472e-b9cc-eb2a24b5d730",
   "metadata": {},
   "source": [
    "Ans - \n",
    "(1)matplotlib.pyplot.plot()\n",
    "(2)matplotlib.pyplot.bar()\n",
    "(3)matplotlib.pyplot.pie()"
   ]
  },
  {
   "cell_type": "markdown",
   "id": "4775d635-29aa-4b48-8508-31650127b1d8",
   "metadata": {},
   "source": [
    "Q6 What is the role of legends in agraph/chart?"
   ]
  },
  {
   "cell_type": "markdown",
   "id": "f908d685-11fe-4a11-b841-bf8c90dfa53f",
   "metadata": {},
   "source": [
    "Ans - Legends in a graph or chart identify and explain the various elements represented, such as data series or categories. They enhance clarity and readability by associating symbols, colors, or patterns with specific data, making it easier to interpret the information accurately. Legends also provide context and serve as a quick reference for viewers."
   ]
  },
  {
   "cell_type": "markdown",
   "id": "bdbfe969-f294-4975-b00e-509697d37aae",
   "metadata": {},
   "source": [
    "Q7 What are the popular ways of plotting data?"
   ]
  },
  {
   "cell_type": "markdown",
   "id": "362ed0ee-2cbb-49d7-80b9-83c7ded18f9b",
   "metadata": {},
   "source": [
    "Ans - Popular ways of plotting data include:\n",
    "\n",
    "1. Line Graphs: Show trends over time.\n",
    "2. Bar Charts: Compare quantities across categories.\n",
    "3. Pie Charts: Display parts of a whole.\n",
    "4. Scatter Plots: Show relationships between two variables.\n",
    "5. Histograms: Illustrate the distribution of data.\n",
    "6. Box Plots: Summarize data distributions and identify outliers.\n",
    "7. Heatmaps: Represent data values with color.\n",
    "8. Area Charts: Highlight volume over time.\n",
    "\n",
    "These methods help visualize data for easier interpretation and analysis."
   ]
  },
  {
   "cell_type": "markdown",
   "id": "08d63506-38d8-49ad-a156-9e3acbff2822",
   "metadata": {},
   "source": [
    "Q8 What are ndarrays? How are they different from Python lists?"
   ]
  },
  {
   "cell_type": "markdown",
   "id": "b0524871-eb51-4d5e-9f5c-91af8e4e1e02",
   "metadata": {},
   "source": [
    "Ans - ndarrays are multi-dimensional arrays provided by NumPy in Python. They are used for efficient numerical computations.\n",
    "\n",
    "*Differences from Python lists**:\n",
    "- Homogeneity: ndarrays store elements of the same data type, while lists can hold mixed types.\n",
    "- Performance: ndarrays are faster for numerical operations due to optimized memory usage and built-in functions.\n",
    "- Dimensionality: ndarrays support multi-dimensional arrays, whereas lists are typically one-dimensional or nested.\n",
    "- Operations: ndarrays support element-wise operations and broadcasting, which are not inherently available with lists."
   ]
  },
  {
   "cell_type": "markdown",
   "id": "f2401167-c04c-443e-91c1-da0575dd3fb9",
   "metadata": {},
   "source": [
    "Q9 What do you understand by xlimit and ylimit? How are these linked to data being plotted?"
   ]
  },
  {
   "cell_type": "markdown",
   "id": "40301c54-600d-4659-8ccd-c3e23b8835c9",
   "metadata": {},
   "source": [
    "Ans - xlimit and ylimit refer to the range of values displayed on the x-axis and y-axis of a plot, respectively. \n",
    "\n",
    "Link to data:\n",
    "- They define the visible portion of the data, allowing focus on specific ranges.\n",
    "- Adjusting limits can highlight particular data trends or details by zooming in or out."
   ]
  },
  {
   "cell_type": "markdown",
   "id": "45440e65-206e-48b5-8088-c39530d11ba3",
   "metadata": {},
   "source": [
    "Q10 Compare bar() and barh() functions."
   ]
  },
  {
   "cell_type": "markdown",
   "id": "af49ea52-9895-409e-bb26-b68616732a25",
   "metadata": {},
   "source": [
    "Ans - The `bar()` and `barh()` functions in matplotlib are used for creating bar charts.\n",
    "\n",
    "- **bar()**: Plots vertical bars.\n",
    "- **barh()**: Plots horizontal bars.\n",
    "\n",
    "Both functions take similar parameters but differ in the orientation of the bars."
   ]
  }
 ],
 "metadata": {
  "kernelspec": {
   "display_name": "Python 3 (ipykernel)",
   "language": "python",
   "name": "python3"
  },
  "language_info": {
   "codemirror_mode": {
    "name": "ipython",
    "version": 3
   },
   "file_extension": ".py",
   "mimetype": "text/x-python",
   "name": "python",
   "nbconvert_exporter": "python",
   "pygments_lexer": "ipython3",
   "version": "3.10.8"
  }
 },
 "nbformat": 4,
 "nbformat_minor": 5
}
