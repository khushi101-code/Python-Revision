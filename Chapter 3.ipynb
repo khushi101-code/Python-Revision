{
 "cells": [
  {
   "cell_type": "markdown",
   "id": "a08d6267-cf80-4173-924d-a0c1e95689b6",
   "metadata": {},
   "source": [
    "Chapter3 : Working with Functions"
   ]
  },
  {
   "cell_type": "markdown",
   "id": "3a33df98-f7c4-472a-8ffa-b72070dda328",
   "metadata": {},
   "source": [
    "Q1 What is the significance of having functions in a program?"
   ]
  },
  {
   "cell_type": "markdown",
   "id": "e3322cf2-67a9-41b2-89ba-4bb839fa7bba",
   "metadata": {},
   "source": [
    "Ans -\n",
    "Creating functions in programs is very useful.It offers following advantages:\n",
    "(1) The program is easier to understand\n",
    "Main block of program becomes compact as the code of fucntions is not part of it,thus is easier to read and understand.\n",
    "\n",
    "(2)Redundant code is at one place,so making changes is easier.\n",
    "Instead of writing code again when we need to use it more than once, we can write the code in the form of a function and call it more than once.If we later need to change the code, we change it in one place only.Thus it saves our time also.\n",
    "\n",
    "(3)Reusable functions can be put it a library in modules.\n",
    "We can store the reusable fucntions in the form of modules.These modules can be imported and used when needed in other programs."
   ]
  },
  {
   "cell_type": "markdown",
   "id": "0d4520e0-b20f-4963-a2b8-5c2072a63edf",
   "metadata": {},
   "source": [
    "Q2 What do you understand by flow of excution?"
   ]
  },
  {
   "cell_type": "markdown",
   "id": "ad178af9-d2e1-4b72-967d-baf10135af31",
   "metadata": {},
   "source": [
    "Ans - The flow of execution refers to the order in which a program's instructions are carried out. It typically starts at the first line of the code and proceeds sequentially, unless directed otherwise by control structures like loops, conditionals, and function calls."
   ]
  },
  {
   "cell_type": "markdown",
   "id": "b6e44271-15b9-4e41-b13c-1c52e550c5c5",
   "metadata": {},
   "source": [
    "Q3 What are arguments? What are parameters? How are these two terms different yet related? Give example."
   ]
  },
  {
   "cell_type": "markdown",
   "id": "5ae32019-be9a-4b72-9367-8fa4044e2658",
   "metadata": {},
   "source": [
    "Ans -\n",
    "Arguments are the actual values or data you pass to a function when you call it. Parameters are the variables listed in the function definition that receive the arguments."
   ]
  },
  {
   "cell_type": "code",
   "execution_count": null,
   "id": "f2f7f9ac-cd0c-4c1f-a483-f8d51cdb9cf7",
   "metadata": {},
   "outputs": [],
   "source": [
    "#Example\n",
    "def add(a, b):  # 'a' and 'b' are parameters\n",
    "    return a + b\n",
    "\n",
    "result = add(5, 3)  # 5 and 3 are arguments\n"
   ]
  },
  {
   "cell_type": "markdown",
   "id": "88dc254f-d4c8-4d46-a4b0-c827b4b60ab4",
   "metadata": {},
   "source": [
    "Difference: Parameters are used in the function's definition, while arguments are the values passed to the function when it is called.\n",
    "\n",
    "Relation: Arguments are matched to parameters, allowing the function to use those values."
   ]
  },
  {
   "cell_type": "markdown",
   "id": "b0dc9bc7-fd66-48ad-9369-b14642a0d172",
   "metadata": {},
   "source": [
    "Q4 What is scope? What is the scope resolving rule of Python?"
   ]
  },
  {
   "cell_type": "markdown",
   "id": "140879a7-004f-4a5f-a013-9d0fe81512bf",
   "metadata": {},
   "source": [
    "Ans - \n",
    "Scope refers to the region of a program where a particular variable or function is accessible. In Python, scope determines the visibility and lifetime of a variable.\n",
    "\n",
    "Python's Scope Resolving Rule: LEGB\n",
    "\n",
    "Local (L): Variables defined within a function.\n",
    "Enclosing (E): Variables in the local scope of enclosing functions.\n",
    "Global (G): Variables defined at the top level of a module or script.\n",
    "Built-in (B): Names preassigned in Python (e.g., len, print)."
   ]
  },
  {
   "cell_type": "markdown",
   "id": "c1201faa-580e-41e1-9397-9e6d7ee35be9",
   "metadata": {},
   "source": [
    "Q5 Write a function that takes amount-in-dollars and dollar-to-rupee conversion price; it then returns the amount converted to rupee.Create the function in both void and non void forms."
   ]
  },
  {
   "cell_type": "code",
   "execution_count": null,
   "id": "bfaa0b28-2a50-48f7-9344-595cb9ff8403",
   "metadata": {},
   "outputs": [],
   "source": [
    "#Ans\n",
    "#Non-Void Function\n",
    "#This function returns the converted amount.\n",
    "\n",
    "\n",
    "def convert_to_rupee(amount_in_dollars, conversion_rate):\n",
    "    converted_amount = amount_in_dollars * conversion_rate\n",
    "    return converted_amount\n",
    "\n",
    "# Example usage:\n",
    "amount_in_dollars = 50\n",
    "conversion_rate = 83\n",
    "converted_amount = convert_to_rupee(amount_in_dollars, conversion_rate)\n",
    "print(f\"Converted amount: {converted_amount} Rupees\")\n"
   ]
  },
  {
   "cell_type": "code",
   "execution_count": null,
   "id": "0be95b6f-b923-4d90-97e9-f29835dddd53",
   "metadata": {},
   "outputs": [],
   "source": [
    "#Ans\n",
    "#Void Function\n",
    "#This function prints the converted amount directly.\n",
    "\n",
    "def convert_to_rupee_void(amount_in_dollars, conversion_rate):\n",
    "    converted_amount = amount_in_dollars * conversion_rate\n",
    "    print(f\"Converted amount: {converted_amount} Rupees\")\n",
    "\n",
    "# Example usage:\n",
    "amount_in_dollars = 50\n",
    "conversion_rate = 83  \n",
    "convert_to_rupee_void(amount_in_dollars, conversion_rate)\n",
    "\n"
   ]
  },
  {
   "cell_type": "markdown",
   "id": "7313b599-9600-461d-b8a5-6081073851e1",
   "metadata": {},
   "source": [
    "Q6 Write a function namely fun that takes no parameters and always returns None."
   ]
  },
  {
   "cell_type": "code",
   "execution_count": null,
   "id": "c2379d6f-8989-4cb3-bcfb-86f166a29ff7",
   "metadata": {},
   "outputs": [],
   "source": [
    "#Ans -\n",
    "def fun():\n",
    "    return None"
   ]
  },
  {
   "cell_type": "markdown",
   "id": "1af85a39-1463-4f2f-8970-2b94eabb3984",
   "metadata": {},
   "source": [
    "Q7 Write a program that generates a series using a funciton which takes first and last values of the series and then generates four terms that are wquidistant eg, if two numbers passed are 1 and 7 then functyion returns 1 3 5 7."
   ]
  },
  {
   "cell_type": "code",
   "execution_count": null,
   "id": "4c76e3ca-45f3-4349-8a09-3aaa611dc0e7",
   "metadata": {},
   "outputs": [],
   "source": [
    "#Ans-\n",
    "def generate_series(first, last):\n",
    "    step = (last - first) / 3\n",
    "    return [first, first + step, first + 2 * step, last]\n",
    "\n",
    "# Example usage:\n",
    "first_value = 1\n",
    "last_value = 7\n",
    "series = generate_series(first_value, last_value)\n",
    "print(series)  # Output: [1, 3, 5, 7]\n"
   ]
  },
  {
   "cell_type": "markdown",
   "id": "69aa6765-b49e-4a3a-ac70-b29b4d0a8414",
   "metadata": {},
   "source": [
    "Q8 Write a function that receives two numbers and generates a random number from that range.Using this function, the main program should be able to print three numbers randomly."
   ]
  },
  {
   "cell_type": "code",
   "execution_count": null,
   "id": "d225922d-bc95-428f-bc54-5d4eebe1ae7c",
   "metadata": {},
   "outputs": [],
   "source": [
    "#Ans-\n",
    "import random\n",
    "\n",
    "def generate_random_number(start, end):\n",
    "    return random.randint(start, end)\n",
    "\n",
    "# Example \n",
    "start_value = 1\n",
    "end_value = 10\n",
    "\n",
    "print(generate_random_number(start_value, end_value))\n",
    "print(generate_random_number(start_value, end_value))\n",
    "print(generate_random_number(start_value, end_value))"
   ]
  },
  {
   "cell_type": "markdown",
   "id": "dbef4011-be53-4478-86dd-8c8400d9a9c1",
   "metadata": {},
   "source": [
    "Q9 Write a function that receives two string arguments and checks whether they are same length strings(returns True in this case otherwise false)."
   ]
  },
  {
   "cell_type": "code",
   "execution_count": null,
   "id": "45f88ec7-d287-4f9a-b91e-9f10e776ba13",
   "metadata": {},
   "outputs": [],
   "source": [
    "#Ans-\n",
    "def are_same_length(str1, str2):\n",
    "    return len(str1) == len(str2)\n",
    "\n",
    "# Example \n",
    "string1 = \"hello\"\n",
    "string2 = \"world\"\n",
    "result = are_same_length(string1, string2)\n",
    "print(result)  "
   ]
  },
  {
   "cell_type": "markdown",
   "id": "21a2d99b-5d4b-463d-afb5-628571dfced7",
   "metadata": {},
   "source": [
    "Q10 Write a program with a function that takes an integer and prints the number that follows after it.Call the function with these arguments:\n",
    " 4, 6, 8, 2+1, 4-3*2, -3-2"
   ]
  },
  {
   "cell_type": "code",
   "execution_count": null,
   "id": "9b214219-4f24-4b63-9fec-a05a901c3fd1",
   "metadata": {},
   "outputs": [],
   "source": [
    "#Ans-\n",
    "def print_next_number(num):\n",
    "    print(num + 1)\n",
    "\n",
    "# Example:\n",
    "print_next_number(4)        \n",
    "print_next_number(6)       \n",
    "print_next_number(8)       \n",
    "print_next_number(2 + 1)    \n",
    "print_next_number(4 - 3 * 2) \n",
    "print_next_number(-3 - 2)   "
   ]
  },
  {
   "cell_type": "markdown",
   "id": "20e02fc8-788f-4f3b-9419-f538913d5c0f",
   "metadata": {},
   "source": [
    "Q11 Write a function to calculate volume of a box with appropriate default values for its parameters.Your function shoukd have the following input parameters:\n",
    "(A)length of box:\n",
    "(B)width of box:\n",
    "(c)height of box:\n",
    "write a program to invoke it"
   ]
  },
  {
   "cell_type": "code",
   "execution_count": null,
   "id": "1c841135-eb15-45f1-a450-5b1fcc7f7edc",
   "metadata": {},
   "outputs": [],
   "source": [
    "#Ans\n",
    "def calculate_volume(length=1, width=1, height=1):\n",
    "    return length * width * height\n",
    "\n",
    "# Example:\n",
    "volume1 = calculate_volume(3, 4, 5)  \n",
    "print(f\"Volume with specified values: {volume1}\")  \n",
    "# Output: 60\n",
    "\n",
    "volume2 = calculate_volume()  \n",
    "print(f\"Volume with default values: {volume2}\")  \n",
    "# Output: 1\n",
    "\n",
    "volume3 = calculate_volume(length=2)  \n",
    "print(f\"Volume with length=2: {volume3}\")  \n",
    "# Output: 2\n",
    "\n",
    "volume4 = calculate_volume(width=3, height=4)  \n",
    "print(f\"Volume with width=3 and height=4: {volume4}\")  \n",
    "# Output: 12\n"
   ]
  },
  {
   "cell_type": "markdown",
   "id": "2a459f3c-1f62-4adf-a670-3a0b18aa0abe",
   "metadata": {},
   "source": [
    "Q12 What will the following function return?\n",
    "def addEm(x,y,z):\n",
    "   print(x+y+z)"
   ]
  },
  {
   "cell_type": "code",
   "execution_count": null,
   "id": "9247ade9-406b-4cb1-8fc2-e9b9abf36cca",
   "metadata": {},
   "outputs": [],
   "source": [
    "#Ans\n",
    "6\n",
    "None\n"
   ]
  },
  {
   "cell_type": "markdown",
   "id": "e802656a-90af-4e01-8ba8-da8420a99da1",
   "metadata": {},
   "source": [
    "Q13 What will the following function print when called?\n",
    "def addEm(x,y,z):\n",
    "    return x+y+z\n",
    "    print(x+y+z)"
   ]
  },
  {
   "cell_type": "markdown",
   "id": "92e86010-1dbf-47b9-8b4d-097861447857",
   "metadata": {},
   "source": [
    "#Ans-\n",
    " it will not print anything."
   ]
  },
  {
   "cell_type": "markdown",
   "id": "c657ba16-349a-4664-8440-da88510a616c",
   "metadata": {},
   "source": [
    "Q14 Write a function that takes a positive integer and returns the one's position digit of the integer."
   ]
  },
  {
   "cell_type": "code",
   "execution_count": null,
   "id": "74531c39-ba51-4824-b0d8-7316a914c2f8",
   "metadata": {},
   "outputs": [],
   "source": [
    "#Ans-\n",
    "def getOnes(num):\n",
    "    #return the ones digit of the integer num\n",
    "    onesDigit = num % 10\n",
    "    return onesDigit "
   ]
  },
  {
   "cell_type": "markdown",
   "id": "a0202103-4af4-4cb7-91b7-6387ef364d83",
   "metadata": {},
   "source": [
    "Q15 Find the output of the following code fragment?\n",
    "def func(message, num = 1):\n",
    "    print(message*num)\n",
    "    \n",
    "func('Python')\n",
    "func('Easy', 3)"
   ]
  },
  {
   "cell_type": "code",
   "execution_count": null,
   "id": "c12db22a-acd9-4f60-91f8-54cbf5b1307b",
   "metadata": {},
   "outputs": [],
   "source": [
    "#Ans-\n",
    "Python\n",
    "EasyEasyEasy"
   ]
  }
 ],
 "metadata": {
  "kernelspec": {
   "display_name": "Python 3 (ipykernel)",
   "language": "python",
   "name": "python3"
  },
  "language_info": {
   "codemirror_mode": {
    "name": "ipython",
    "version": 3
   },
   "file_extension": ".py",
   "mimetype": "text/x-python",
   "name": "python",
   "nbconvert_exporter": "python",
   "pygments_lexer": "ipython3",
   "version": "3.10.8"
  }
 },
 "nbformat": 4,
 "nbformat_minor": 5
}
