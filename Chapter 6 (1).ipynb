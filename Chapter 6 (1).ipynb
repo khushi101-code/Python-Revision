{
 "cells": [
  {
   "cell_type": "markdown",
   "id": "ea310259-7ba1-4418-9cde-8210e1ce2faa",
   "metadata": {},
   "source": [
    "Chapter6: Recursion"
   ]
  },
  {
   "cell_type": "markdown",
   "id": "5f02ec7d-a0c6-4ec3-8340-cc0994a374ed",
   "metadata": {},
   "source": [
    "Q1 What us recursion?"
   ]
  },
  {
   "cell_type": "markdown",
   "id": "7fcc5a01-5447-4598-a1e2-db09443ab8b1",
   "metadata": {},
   "source": [
    "Ans - In a program, if a function calls itself (whether directly or indirectly), it is known as recursion. And the function calling itself recursive function e.g, following are two examples of recursion:"
   ]
  },
  {
   "cell_type": "code",
   "execution_count": null,
   "id": "80839338-e067-4fbd-9e74-4cc943269cdf",
   "metadata": {},
   "outputs": [],
   "source": [
    "(1) def A():\n",
    "        A()\n",
    "        \n",
    "        \n",
    "(2) def B():\n",
    "        C()\n",
    "    def C():\n",
    "        B()"
   ]
  },
  {
   "cell_type": "markdown",
   "id": "3808b97a-822a-47e3-8b8a-9a6ce859b974",
   "metadata": {},
   "source": [
    "Q2 What are base case and recursive case? What is their role in a recursive program?"
   ]
  },
  {
   "cell_type": "markdown",
   "id": "11de4da6-f9e1-4dc7-b8aa-4dbac8f3c9f6",
   "metadata": {},
   "source": [
    "Ans - In a recursive solution, the base cases are predetermined solutions for the simplest versions of the problem: if the given problem is a base case, no further computation is necessary to get the result\n",
    "The recursive case is the one that calls the function again with a new set of values.The recursive step is a set of rules that eventually reduces all versions of the problem to one of the base cases when applied repeatedly."
   ]
  },
  {
   "cell_type": "markdown",
   "id": "d0e89ee3-37a1-4fa8-9e52-bfbba3bd2f8b",
   "metadata": {},
   "source": [
    "Q3 Why is base case so important in a recursive function?"
   ]
  },
  {
   "cell_type": "markdown",
   "id": "4a40974f-04d1-4c79-ab8e-07e81407ae84",
   "metadata": {},
   "source": [
    "Ans - The base case, in a recursive case, represents a pre-known case whose solution is also preknown.This case is vey important because upon reading at base case, the termination of recursive function occurs as base case invoke the function again, rather it returns a pre known result. In the absence of base case, the recursive function executes endlessly.Therefore, the execution of base case is necessary for the termination of the recursive function."
   ]
  },
  {
   "cell_type": "markdown",
   "id": "7f5cfa12-f3ac-49d3-b124-b8bc3642b5d3",
   "metadata": {},
   "source": [
    "Q4 When does infinite recursion occur?"
   ]
  },
  {
   "cell_type": "markdown",
   "id": "d3724a1f-684b-463a-9700-2ae529d5dd51",
   "metadata": {},
   "source": [
    "Ans - Infinite recursion is when a recursive function executes itself again and again, endlessly.This happens when either the base case is missing or it is not reachable."
   ]
  },
  {
   "cell_type": "markdown",
   "id": "575b7499-c62a-42c4-85e5-d6aa8f128d68",
   "metadata": {},
   "source": [
    "Q5 Compare iteration and recursion."
   ]
  },
  {
   "cell_type": "markdown",
   "id": "190bdc24-c34c-4f3b-81fb-d77047aea4d8",
   "metadata": {},
   "source": [
    "Ans - In iteration, the code is executed repeatedly using the same memory space.That is, the memory space allocared once, is used for each pass of the loop.\n",
    "On the other hand in recursion, since it involves function call at each step, fresh memory is allocated for each recursive call.For this reason that is, because of cuntion call overheads, the recursive funciton runs slower than its iterative counterpart."
   ]
  },
  {
   "cell_type": "markdown",
   "id": "2f5546f1-bbfe-4c89-9924-d7b56c3640f0",
   "metadata": {},
   "source": [
    "Q6 State one advantage and one disadvantage of using recursion over iteration."
   ]
  },
  {
   "cell_type": "code",
   "execution_count": null,
   "id": "eb255e7a-c8db-4cbf-be55-e352dda08115",
   "metadata": {},
   "outputs": [],
   "source": [
    "Ans - Advantage \n",
    "Recursion makes the code short and simple while iteration makes the code longer comparitively.\n",
    "Disadvantage\n",
    "Recursion is slower than iteration due to overhead of multiple function calls and maintaining a stack for it."
   ]
  },
  {
   "cell_type": "code",
   "execution_count": null,
   "id": "06517bcc-d7aa-4805-bee4-bcb6f5d8229d",
   "metadata": {},
   "outputs": [],
   "source": [
    "Q7 Figure out the error in the following recursive code of factorial:"
   ]
  },
  {
   "cell_type": "code",
   "execution_count": null,
   "id": "19ed1f24-5217-4f39-8afd-0200177f9ae8",
   "metadata": {},
   "outputs": [],
   "source": [
    "def factorial(n):\n",
    "    if n == 0:\n",
    "        return 1\n",
    "    else:\n",
    "        n*factorial(n-1)\n",
    "        \n",
    "    #__main__\n",
    "    print(factorial(4))"
   ]
  },
  {
   "cell_type": "markdown",
   "id": "32274cb7-b302-4130-82e1-e6342e12c00b",
   "metadata": {},
   "source": [
    "Ans - The error in above code is that the recursive case us calling function factorial() with a changed value but not returning the result of the call.\n",
    "The corrected version will be:"
   ]
  },
  {
   "cell_type": "code",
   "execution_count": null,
   "id": "7432fb7d-5380-4dab-860e-9717ed14229a",
   "metadata": {},
   "outputs": [],
   "source": [
    "def factorial(n):\n",
    "    if n == 0:\n",
    "        return 1\n",
    "    else:\n",
    "        return n*factorial(-1)\n",
    "  #__main__\n",
    "  print(factorail(4))"
   ]
  },
  {
   "cell_type": "code",
   "execution_count": null,
   "id": "d1eb694d-87fa-4fe8-9518-36f4aec43a7f",
   "metadata": {},
   "outputs": [],
   "source": [
    "Q8 Why is following code printing 1 endlessly?"
   ]
  },
  {
   "cell_type": "code",
   "execution_count": null,
   "id": "b7780f75-d8e5-4068-9d26-0b55f51d89e4",
   "metadata": {},
   "outputs": [],
   "source": [
    "def Out_upto(n):\n",
    "    i=1\n",
    "    if i > n:\n",
    "        return\n",
    "    else:\n",
    "        print(i)\n",
    "        i += 1\n",
    "        Out_upto(i)\n",
    "    Out_upto(4)"
   ]
  },
  {
   "cell_type": "markdown",
   "id": "aac07eaf-2a40-495d-a22b-377de9a9049f",
   "metadata": {},
   "source": [
    "Ans - The above code is printing 1 endlessly becuase the base case i>n is never reachable. The reason is that value of i becomes 1 for each call to function Out_upto()."
   ]
  },
  {
   "cell_type": "markdown",
   "id": "05f13dd3-7bb6-4d86-b0df-83501bcb11ee",
   "metadata": {},
   "source": [
    "Q9 Write recursive code to compute and print sum of squares of n numbers. Value of n is passed as parameter."
   ]
  },
  {
   "cell_type": "code",
   "execution_count": null,
   "id": "96f9e3ce-d415-4f72-81b3-0f895fbaa115",
   "metadata": {},
   "outputs": [],
   "source": [
    "#Ans - \n",
    "def sqsum(n):\n",
    "    if n == 1:\n",
    "        return 1\n",
    "    return n*n + sqsum(n - 1)\n",
    "\n",
    " #__main__\n",
    "n = int(input(\"Enter value of n :\"))\n",
    "print(sqsum(n))"
   ]
  },
  {
   "cell_type": "markdown",
   "id": "c85eab01-2886-4e58-878f-9022012b0c78",
   "metadata": {},
   "source": [
    "Q10 Write a Recursive function recurfactorial(n) in python to calculate and return the factorial of number n passed to the parameter."
   ]
  },
  {
   "cell_type": "code",
   "execution_count": null,
   "id": "20a2cfe3-9048-48b7-afc0-568a837c69f6",
   "metadata": {},
   "outputs": [],
   "source": [
    "#Ans - \n",
    "def recurfactorial(n):\n",
    "    if n == 1:\n",
    "        return n\n",
    "    else:\n",
    "        return n*recurfactorial(n - 1)\n",
    "num = int(input(\"Enter a number :\"))\n",
    "if num < 0:\n",
    "    print(\"Sorry, No factorial for negative numbers\")\n",
    "elif num == 0:\n",
    "    print(\"The factorial of 0 is 1\")\n",
    "else:\n",
    "    print(\"The factorial of\", num, \"is\", recurfactorial(num))\n",
    "                                                    "
   ]
  }
 ],
 "metadata": {
  "kernelspec": {
   "display_name": "Python 3 (ipykernel)",
   "language": "python",
   "name": "python3"
  },
  "language_info": {
   "codemirror_mode": {
    "name": "ipython",
    "version": 3
   },
   "file_extension": ".py",
   "mimetype": "text/x-python",
   "name": "python",
   "nbconvert_exporter": "python",
   "pygments_lexer": "ipython3",
   "version": "3.10.8"
  }
 },
 "nbformat": 4,
 "nbformat_minor": 5
}
