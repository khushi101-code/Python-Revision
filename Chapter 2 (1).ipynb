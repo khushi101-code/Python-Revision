{
 "cells": [
  {
   "cell_type": "markdown",
   "id": "1e51299e-61e8-4233-b49e-3d929dfcf41f",
   "metadata": {},
   "source": [
    "Chapter2 : Python Revision Tour-||"
   ]
  },
  {
   "cell_type": "markdown",
   "id": "c46f9c69-db90-4ba5-824d-478a3a2a5e72",
   "metadata": {},
   "source": [
    "Q1 What is indexing in context to python strings? Why is it also called two-way indexing?"
   ]
  },
  {
   "cell_type": "markdown",
   "id": "b5148106-e027-4555-b966-a2434a66f9b1",
   "metadata": {},
   "source": [
    "Ans- In python strings, each individual character is given a location number,called index and this process is called indexing.Python allocates indices in two directions:\n",
    "in Forward direction, the indexes are numbered as 0,1,2,....length-1.\n",
    "in Backward direction, the indexes are numbered as -1,-2,-3.... length.\n",
    "This is known as two-way indexing."
   ]
  },
  {
   "cell_type": "markdown",
   "id": "e003f4e2-59b9-42b6-b0a3-5520e28349d4",
   "metadata": {},
   "source": [
    "Q2 How are lists different from strings when both are sequences?"
   ]
  },
  {
   "cell_type": "markdown",
   "id": "21c883fa-9a8a-4dd1-9389-8e4c9183b176",
   "metadata": {},
   "source": [
    "Ans -The lists and strings are different in following ways:\n",
    "* The lists are multiple sequences while strings are immutable.\n",
    "* In consecutive locations, a string stores the individual characters while a list stores the references of its elements.\n",
    "* Strings store single type of elements - all characters while lists can store elements belonging to different types."
   ]
  },
  {
   "cell_type": "markdown",
   "id": "2b3283c6-bfb5-48b6-905a-6ed3559443c1",
   "metadata": {},
   "source": [
    "Q3 What are nested lists?"
   ]
  },
  {
   "cell_type": "markdown",
   "id": "365d255a-bc72-42e4-b9ab-2777d2b1b457",
   "metadata": {},
   "source": [
    "Ans - When a list is contained in another list as a memeber-element,it is called nested list, eg a = [2,3,[4,5]]"
   ]
  },
  {
   "cell_type": "markdown",
   "id": "9f25d88e-9d1f-4847-882e-72ad49fb337b",
   "metadata": {},
   "source": [
    "Q4 Write a program to sort a sequence using insertion sort."
   ]
  },
  {
   "cell_type": "code",
   "execution_count": null,
   "id": "4125bd73-cc4f-4c32-9a74-4dcca43d5efd",
   "metadata": {},
   "outputs": [],
   "source": [
    "#Ans\n",
    "List = [12,3,5,56,89,22,45,10]\n",
    "print(\"Original list is :\", List)\n",
    "for i in range(1,len(List)):\n",
    "    key = List[i]\n",
    "    j = i-1\n",
    "    while j >= 0 and key < List[j]:\n",
    "        List[j+1] = List[j]\n",
    "        j = j-1\n",
    "    else:\n",
    "            List[j+1] = key\n",
    "            print(\"List after sorting :\",List)"
   ]
  },
  {
   "cell_type": "markdown",
   "id": "90886b1a-dcaf-4a71-8de9-17cdb4112bb6",
   "metadata": {},
   "source": [
    "Q5 What will be the output of the following code snippet?"
   ]
  },
  {
   "cell_type": "code",
   "execution_count": null,
   "id": "eee26abb-6e1b-481c-bd80-18cffda494a7",
   "metadata": {},
   "outputs": [],
   "source": [
    "values = []\n",
    "for i in range(1,4):\n",
    "    values.append(i)\n",
    "    print(values)"
   ]
  },
  {
   "cell_type": "code",
   "execution_count": null,
   "id": "43a755fe-c992-4c82-9145-7ae39a723f6b",
   "metadata": {},
   "outputs": [],
   "source": [
    "#Ans\n",
    "[1]\n",
    "[1, 2]\n",
    "[1, 2, 3]\n"
   ]
  },
  {
   "cell_type": "markdown",
   "id": "4c548628-e2d5-445d-87bf-82b5c75de993",
   "metadata": {},
   "source": [
    "Q6 What is the output of the following code snippet?"
   ]
  },
  {
   "cell_type": "code",
   "execution_count": null,
   "id": "3a5f9597-2f51-42b6-bc1b-8a41af3f5712",
   "metadata": {},
   "outputs": [],
   "source": [
    "aLst = [1,2,3,4,5,6,7,8,9]\n",
    "print(aLst[::3])"
   ]
  },
  {
   "cell_type": "code",
   "execution_count": null,
   "id": "3091688c-8dbc-409d-b986-a2a48d36d7ae",
   "metadata": {},
   "outputs": [],
   "source": [
    "#Ans\n",
    "[1, 4, 7]"
   ]
  },
  {
   "cell_type": "markdown",
   "id": "cb0ede54-d320-4b64-b473-25fef7a352e2",
   "metadata": {},
   "source": [
    "Q7 How are dictionaries different from lists?"
   ]
  },
  {
   "cell_type": "markdown",
   "id": "f3698683-f625-4236-b6ee-f89a0381c012",
   "metadata": {},
   "source": [
    "Ans - The dictionary is similar to lists in the sense that it is also a collection of data-items just like lists but it is different from lists in the sense that lists are sequential collections (ordered) and dictionaries are non sequential collections (unordered).\n",
    "In lists, where there is an order associated with the data items because they act as storage units for other objects or variavles you've created.Dictionaries are diffrent from lists and tuples because the group of objects they hold aren't in any particular order, but rather each object has its own unique name, commonly known as a key"
   ]
  },
  {
   "cell_type": "markdown",
   "id": "938c1d08-766d-4499-885b-41b8afec8ec2",
   "metadata": {},
   "source": [
    "Q8 How are tuples different from lists when both are sequences?"
   ]
  },
  {
   "cell_type": "markdown",
   "id": "4a5bbd60-0392-4bb4-ac95-2ab084b40b29",
   "metadata": {},
   "source": [
    "Ans - The tuples and lists are differnt in following ways:\n",
    "    *The tuples are immutable sequences while lists are mutable.\n",
    "    *Lists can grow or shrink while tuples cannot."
   ]
  },
  {
   "cell_type": "markdown",
   "id": "53c9342d-c3b3-4aaf-8179-f5c13cb7e3b6",
   "metadata": {},
   "source": [
    "Q9 How can you say that a tuple is an ordered list of objects?"
   ]
  },
  {
   "cell_type": "markdown",
   "id": "3a89d043-6ec3-41ab-ab89-52729c0f0486",
   "metadata": {},
   "source": [
    "Ans - A tuple is an ordered list of objects.This is evidenced by the fact that the objects can be accessed through the use of an ordinal index and for a given index, same element is returned everytime."
   ]
  },
  {
   "cell_type": "markdown",
   "id": "03f4cf48-7bb5-4d33-ad79-1687910a1e68",
   "metadata": {},
   "source": [
    "Q10 Can sequence operations such as slicing and concatenation be applied to dictionaries?  Why?"
   ]
  },
  {
   "cell_type": "markdown",
   "id": "9f7d6384-b8e9-4bf9-b42c-6eb20d4fef5d",
   "metadata": {},
   "source": [
    "Ans - No, sequence operations like slicing and concatenation cannot be applied on dictionaries. The reason being, a dictionary is not a sequence.Because it is not maintained in any specific order,operations that depend on a specific order cannot be used."
   ]
  },
  {
   "cell_type": "markdown",
   "id": "a0866324-313b-4dfe-85e9-5cb498d9408b",
   "metadata": {},
   "source": [
    "Q11 Write a python program that creates a tuple storing first 9 terms of fibonacci series."
   ]
  },
  {
   "cell_type": "code",
   "execution_count": null,
   "id": "7c65a147-7b5a-4711-aabc-02cb7ee7320e",
   "metadata": {},
   "outputs": [],
   "source": [
    "#Ans\n",
    "def fibonacci(n):\n",
    "    fib = [0, 1]\n",
    "    for i in range(2, n):\n",
    "        fib.append(fib[-1] + fib[-2])\n",
    "    return tuple(fib)\n",
    "\n",
    "fib_tuple = fibonacci(9)\n",
    "print(fib_tuple)\n"
   ]
  },
  {
   "cell_type": "markdown",
   "id": "4dffbf27-f0ad-4041-af21-e2eb607e5558",
   "metadata": {},
   "source": [
    "Q12 Write a python program that creates a list of all the integers less than 100 that are multiples of 3 or 5."
   ]
  },
  {
   "cell_type": "code",
   "execution_count": null,
   "id": "97b0efc6-d9d1-4d22-8e2c-b6abd4a0f258",
   "metadata": {},
   "outputs": [],
   "source": [
    "#Ans\n",
    "multiples = [x for x in range(100) if x % 3 == 0 or x % 5 == 0]\n",
    "print(multiples)\n"
   ]
  },
  {
   "cell_type": "markdown",
   "id": "0a3007f3-c2f0-4dda-8183-f4c6e99127ad",
   "metadata": {},
   "source": [
    "Q13 Write a short pyhton segment that prints the longest word in a list of words."
   ]
  },
  {
   "cell_type": "code",
   "execution_count": null,
   "id": "5d3b3a02-aefb-4d23-8e72-95f490c3f604",
   "metadata": {},
   "outputs": [],
   "source": [
    "#Ans\n",
    "words = [\"apple\", \"banana\", \"cherry\", \"date\", \"elderberry\"]\n",
    "longest_word = max(words, key=len)\n",
    "print(longest_word)\n"
   ]
  },
  {
   "cell_type": "markdown",
   "id": "25fe34cf-e00c-4dad-bd3c-ed497348530a",
   "metadata": {},
   "source": [
    "Q14 Create a dictionary whose keys are month names and whose values are the number of days in the corresponding months\n",
    "(a) Ask the user to enter a month name and use the dictionary to tell them how many days are in the month.\n",
    "(b) Print out all of the keys in alphabetical order.\n",
    "(c) Print out  all of the months with 31 days.\n",
    "(d) Print out the(key-value) pairs sorted by the number of days in each month."
   ]
  },
  {
   "cell_type": "code",
   "execution_count": null,
   "id": "5dcc5e51-79ef-4174-97fb-487b0b52d256",
   "metadata": {},
   "outputs": [],
   "source": [
    "#Ans\n",
    "months_days = {\n",
    "    'January': 31,\n",
    "    'February': 28,  \n",
    "    'March': 31,\n",
    "    'April': 30,\n",
    "    'May': 31,\n",
    "    'June': 30,\n",
    "    'July': 31,\n",
    "    'August': 31,\n",
    "    'September': 30,\n",
    "    'October': 31,\n",
    "    'November': 30,\n",
    "    'December': 31\n",
    "}\n"
   ]
  },
  {
   "cell_type": "code",
   "execution_count": null,
   "id": "d148e5f3-c4a1-4571-89db-2858323e9ab8",
   "metadata": {},
   "outputs": [],
   "source": [
    "#(a)\n",
    "month_name = input(\"Enter the name of a month: \")\n",
    "\n",
    "if month_name in months_days:\n",
    "    print(f\"{month_name} has {months_days[month_name]} days.\")\n",
    "else:\n",
    "    print(\"Invalid month name.\")"
   ]
  },
  {
   "cell_type": "code",
   "execution_count": null,
   "id": "58e51d51-a5b2-49d1-bc3f-271db5193b11",
   "metadata": {},
   "outputs": [],
   "source": [
    "#(b)\n",
    "sorted_months = sorted(months_days.keys())\n",
    "print(\"Months in alphabetical order:\", sorted_months)"
   ]
  },
  {
   "cell_type": "code",
   "execution_count": null,
   "id": "7dbf0365-e1d8-486d-aefe-8d7c18eafba1",
   "metadata": {},
   "outputs": [],
   "source": [
    "#(c)\n",
    "months_with_31_days = [month for month in months_days if months_days[month] == 31]\n",
    "print(\"Months with 31 days:\", months_with_31_days)\n"
   ]
  },
  {
   "cell_type": "code",
   "execution_count": null,
   "id": "cc936d7c-732e-497e-9a9d-779e7be87d2b",
   "metadata": {},
   "outputs": [],
   "source": [
    "#(d)\n",
    "sorted_by_days = sorted(months_days.items(), key=lambda item: item[1])\n",
    "print(\"Months sorted by the number of days:\", sorted_by_days)\n"
   ]
  },
  {
   "cell_type": "markdown",
   "id": "c8c5d94d-31f6-4674-b88b-7bd4b9098a56",
   "metadata": {},
   "source": [
    "Q15 What will be the output of the following code snippet?"
   ]
  },
  {
   "cell_type": "code",
   "execution_count": null,
   "id": "0defa8bb-0114-469d-8fe8-902b3fa0996d",
   "metadata": {},
   "outputs": [],
   "source": [
    "my_dict = {}\n",
    "my_dict[(1,2,4)] = 8\n",
    "my_dict[(4,2,1)] = 10\n",
    "my_dict[(1,2)] = 12\n",
    "sum = 0\n",
    "for k in my_dict:\n",
    "    sum += my_dict[k]\n",
    "print(sum)\n",
    "print(my_dict)"
   ]
  },
  {
   "cell_type": "code",
   "execution_count": null,
   "id": "949e59c6-4805-4539-9b5f-2182c90719e6",
   "metadata": {},
   "outputs": [],
   "source": [
    "#Ans\n",
    "30\n",
    "{(1, 2, 4): 8, (4, 2, 1): 10, (1, 2): 12}"
   ]
  },
  {
   "cell_type": "code",
   "execution_count": null,
   "id": "caf312a7-817e-4222-bdf4-3b2bce89902f",
   "metadata": {},
   "outputs": [],
   "source": []
  }
 ],
 "metadata": {
  "kernelspec": {
   "display_name": "Python 3 (ipykernel)",
   "language": "python",
   "name": "python3"
  },
  "language_info": {
   "codemirror_mode": {
    "name": "ipython",
    "version": 3
   },
   "file_extension": ".py",
   "mimetype": "text/x-python",
   "name": "python",
   "nbconvert_exporter": "python",
   "pygments_lexer": "ipython3",
   "version": "3.10.8"
  }
 },
 "nbformat": 4,
 "nbformat_minor": 5
}
