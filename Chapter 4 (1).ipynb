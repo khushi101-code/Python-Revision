{
 "cells": [
  {
   "cell_type": "markdown",
   "id": "0d8bc3d7-370b-4c67-aeed-9fbd84a74f46",
   "metadata": {},
   "source": [
    "Chapter4 : Using Python Libraries"
   ]
  },
  {
   "cell_type": "markdown",
   "id": "c9635b1e-f120-4ef5-987d-4eb728609e52",
   "metadata": {},
   "source": [
    "Q1 What is a module,package and a library?"
   ]
  },
  {
   "cell_type": "markdown",
   "id": "ca83c4c3-98bb-48bf-a43a-72696c9f1aa7",
   "metadata": {},
   "source": [
    "Ans - Module\n",
    "A Module is a file with some Python code and is saved with .py extension.\n",
    "Package\n",
    "A package is a directory that contains subpackages and modules in it along with some special files such as __init__.py.\n",
    "Library\n",
    "A Python library is a resusable chunk od code that is used in program/script using import command.A package is a library if it is installable or gets attached to site-packages folder of Python installation.\n",
    "The line between a package and a python library is quite blurred and both these terms are often used interchangeably."
   ]
  },
  {
   "cell_type": "markdown",
   "id": "cbe2a865-50c6-4516-9986-755cab9373be",
   "metadata": {},
   "source": [
    "Q2 What is the utility of built-in function help()?"
   ]
  },
  {
   "cell_type": "markdown",
   "id": "aaca3493-4e89-42de-b638-94b9b0dc769f",
   "metadata": {},
   "source": [
    "Ans - Python's built-in function help() is very useful.When it is provided with a program-name or a module-name or a function-name as an argument, it displays the documentation of the argument as help.It also displays the docstrings within its passed-argument's definition."
   ]
  },
  {
   "cell_type": "markdown",
   "id": "6658144d-393d-4a67-8b09-5db5f590add0",
   "metadata": {},
   "source": [
    "Q3 What happens when Python encounters an import statement in a program?What would happen, if there is one more import statement for the same module,already imported in the same program?"
   ]
  },
  {
   "cell_type": "markdown",
   "id": "65280a9b-e193-4949-8e3e-918074e26426",
   "metadata": {},
   "source": [
    "Ans - When Python encounters an important statement, it does the following:\n",
    "    *the code of imported module is interpreted and executed.\n",
    "    *defined functions and variables created in the module are now available to the program that imported\n",
    "    *For imported module, a new namespace is setup with the same name as that of the module\n",
    "    Any duplicate import statement for the same mmodule in the same program is ignored by Python."
   ]
  },
  {
   "cell_type": "markdown",
   "id": "f26534a0-07bb-47f4-837b-2ced90e2c1d9",
   "metadata": {},
   "source": [
    "Q4 What is a Python module? What is its significance?"
   ]
  },
  {
   "cell_type": "markdown",
   "id": "ec8cab76-aa3e-4438-b96b-14ddb97c0d61",
   "metadata": {},
   "source": [
    "Ans - A \"module\" is a chunk of python code that exists in its own(.py)file and is intended to be used by Python code outside itself.\n",
    "Modules allow ine to bundle together code in a form in which it can easily be used later.\n",
    "The modules can be \"imported\" in other programs so the functions and other definitions in imported modules become available to code that imports them."
   ]
  },
  {
   "cell_type": "markdown",
   "id": "84f88ba5-1cbe-40a2-9725-cd7c08b5cf29",
   "metadata": {},
   "source": [
    "Q5 What is the procedure to create own library/package in Python?"
   ]
  },
  {
   "cell_type": "markdown",
   "id": "12937d60-95bd-485a-8b29-b5c91bdf962c",
   "metadata": {},
   "source": [
    "Ans - To create own library or package in Python, we should do the following:\n",
    "    (1) Create a package folder having the name of the package/library.\n",
    "    (2) Add module files(.py files containing actual code functions) to this package folder.\n",
    "    (3) Add a special file __init__.py to it (even if the file is empty)\n",
    "    (4) Attach this package folder to site-packages folder of python installation."
   ]
  },
  {
   "cell_type": "markdown",
   "id": "1cde8aa7-eccc-4d75-b237-d5409da5ce7d",
   "metadata": {},
   "source": [
    "Q6 What is the problem in the following piece of code?"
   ]
  },
  {
   "cell_type": "code",
   "execution_count": null,
   "id": "ea7fb48b-cc40-4ad7-85a2-1f6b2eb01fe8",
   "metadata": {},
   "outputs": [],
   "source": [
    "from math import factorial\n",
    "print(math.factorial(5))"
   ]
  },
  {
   "cell_type": "markdown",
   "id": "bd57c7a4-514e-4240-8f93-6b891b4fee03",
   "metadata": {},
   "source": [
    "Ans - In the \"from-import\" form of import, the imported identifiers (in this case factorial()) become part of the current local namespace and hence their module's names aren't specified along with the module name.Thus, the statement should be:\n",
    "print(factorial(5))"
   ]
  },
  {
   "cell_type": "code",
   "execution_count": null,
   "id": "7c838db6-9954-4d57-8668-7b9998fa2f48",
   "metadata": {},
   "outputs": [],
   "source": [
    "Q7 What is the output of the following piece of code?"
   ]
  },
  {
   "cell_type": "code",
   "execution_count": null,
   "id": "91fd555c-79e8-4d3e-be66-0681ebc5b195",
   "metadata": {},
   "outputs": [],
   "source": [
    "#mod 1\n",
    "def change(a):\n",
    "    b = [x*2 for x in a]\n",
    "    print(b)\n",
    "#mod2\n",
    "def change(a):\n",
    "    b = [x*x for x in a]\n",
    "    print(b)\n",
    "from mod1 import change\n",
    "from mod2 import change\n",
    "#main\n",
    "s = [1,2,3]\n",
    "change(s)"
   ]
  },
  {
   "cell_type": "markdown",
   "id": "c16d1814-d21e-43da-96e8-66c1a9851fe1",
   "metadata": {},
   "source": [
    "Ans - There is a name-clash.A name clash is a situation when two different entities with the same name become part of the same-scope.Since both the modules have the same function name, there is a name clash, which is an error."
   ]
  },
  {
   "cell_type": "markdown",
   "id": "3bf213ef-d74a-4bd2-b2cf-01020d800f9e",
   "metadata": {},
   "source": [
    "Q8 Consider the following code:"
   ]
  },
  {
   "cell_type": "code",
   "execution_count": null,
   "id": "002878d2-13c6-49a8-9fd0-022232b6daa9",
   "metadata": {},
   "outputs": [],
   "source": [
    "import math\n",
    "import random\n",
    "print(str(int(math.pow(random.randint(2,4),2))), end = ' ')\n",
    "print(str(int(math.pow(random.randint(2,4),2))), end = ' ')\n",
    "print(str(int(math.pow(random.randint(2,4), 2))))"
   ]
  },
  {
   "cell_type": "markdown",
   "id": "1d99e41f-6035-4c62-b482-4af50717254b",
   "metadata": {},
   "source": [
    "What could be the possible outputs out of the given four choices?\n",
    "(1) 2 3 4  \n",
    "(2) 9 4 4\n",
    "(3) 16 16 16\n",
    "(4) 2 4 9\n",
    "(5) 4 9 4\n",
    "(6) 4 4 4"
   ]
  },
  {
   "cell_type": "markdown",
   "id": "b19aafea-189a-4b63-910b-80a0a9fc4943",
   "metadata": {},
   "source": [
    "Ans - The possible outputs could be (2), (3), (5) and (6)"
   ]
  },
  {
   "cell_type": "markdown",
   "id": "eb3687c1-1a3b-428a-a948-3ee8b8afeff8",
   "metadata": {},
   "source": [
    "Q9 Consider the following code:"
   ]
  },
  {
   "cell_type": "code",
   "execution_count": null,
   "id": "f3ef3810-4840-4899-952c-c705770fb410",
   "metadata": {},
   "outputs": [],
   "source": [
    "import random\n",
    "print(100 + random.randint(5,10), end = ' ')\n",
    "print(100 + random.randint(5,10), end = ' ')\n",
    "print(100 + random.randint(5,10), end = ' ')\n",
    "print(100 + random.randint(5,10))"
   ]
  },
  {
   "cell_type": "markdown",
   "id": "f270bb5a-ca40-4cbc-a4ec-c861b41e8780",
   "metadata": {},
   "source": [
    "Find the suggested output options (1) to (4)."
   ]
  },
  {
   "cell_type": "code",
   "execution_count": null,
   "id": "b6db5bf4-2355-40cd-9530-cd264d5a9614",
   "metadata": {},
   "outputs": [],
   "source": [
    "(1) 102 105 104 105\n",
    "(2) 110 103 104 105\n",
    "(3) 105 107 105 110\n",
    "(4) 110 105 105 110"
   ]
  },
  {
   "cell_type": "markdown",
   "id": "1a75d396-da33-4658-8ae3-5ea9d5722067",
   "metadata": {},
   "source": [
    "Ans - The possible output could be (3)"
   ]
  },
  {
   "cell_type": "markdown",
   "id": "5cc5b4f3-9e96-41e6-a875-827895c126a0",
   "metadata": {},
   "source": [
    "Q10 What do you understand by standard library of Python?"
   ]
  },
  {
   "cell_type": "markdown",
   "id": "a05367ae-44dd-402c-bfc0-c14c0c1e25e4",
   "metadata": {},
   "source": [
    "Ans - The Python standard library is a collection of built-in modules and packages that come with the Python interpreter, providing a wide range of functionalities like file I/O, string manipulation, networking, and more, without needing external libraries. It includes tools for data structures, mathematical operations, database access, and much more, enabling developers to perform common tasks efficiently."
   ]
  },
  {
   "cell_type": "code",
   "execution_count": null,
   "id": "40e36bbb-23b0-46e6-91a0-e2c59ea09af4",
   "metadata": {},
   "outputs": [],
   "source": []
  },
  {
   "cell_type": "code",
   "execution_count": null,
   "id": "09300d1d-c9f8-4b0c-b8cb-5d4a11c1787c",
   "metadata": {},
   "outputs": [],
   "source": []
  }
 ],
 "metadata": {
  "kernelspec": {
   "display_name": "Python 3 (ipykernel)",
   "language": "python",
   "name": "python3"
  },
  "language_info": {
   "codemirror_mode": {
    "name": "ipython",
    "version": 3
   },
   "file_extension": ".py",
   "mimetype": "text/x-python",
   "name": "python",
   "nbconvert_exporter": "python",
   "pygments_lexer": "ipython3",
   "version": "3.10.8"
  }
 },
 "nbformat": 4,
 "nbformat_minor": 5
}
