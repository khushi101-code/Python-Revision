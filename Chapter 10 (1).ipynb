{
 "cells": [
  {
   "cell_type": "markdown",
   "id": "7508ba05-e9f5-48f0-8f8a-0cbd17bb0400",
   "metadata": {},
   "source": [
    "Chapter10 : Computer Networks"
   ]
  },
  {
   "cell_type": "markdown",
   "id": "1740ce0b-f532-40a0-8b87-39fa66a2979e",
   "metadata": {},
   "source": [
    "Q1 What is a network?"
   ]
  },
  {
   "cell_type": "markdown",
   "id": "7b297e1a-5e47-429c-80a9-e40bba257051",
   "metadata": {},
   "source": [
    "Ans - A network id an interconnected collection of autonomous computers that can share and exchange information.\n",
    "Major reasons that emphasize on the need of networks are:\n",
    "    (1)Resource Sharing Through a network,data,software and hardware resources can be shared irrespective of the physical location of the resources and the user.\n",
    "    (2)Realiablity A file can have its copies on two or more computers of the network,so it one of them is unavailabe,the other copies should be used.That makes a network more reliable.\n",
    "    (3)Reduced Costs Since resources can be shared,it greatly reduces the costs.\n",
    "    (4)Fast communication With networks,it is possible to exchange information at very fast speeds."
   ]
  },
  {
   "cell_type": "markdown",
   "id": "91e88ca3-07a8-4b1f-8e76-e89a1a8f4744",
   "metadata": {},
   "source": [
    "Q2 What is a hub?"
   ]
  },
  {
   "cell_type": "markdown",
   "id": "227608c8-809d-4ae9-b855-eb0c01516ff3",
   "metadata": {},
   "source": [
    "Ans  - A hub is a hardware device used to connect several compueters together."
   ]
  },
  {
   "cell_type": "markdown",
   "id": "7e496938-0de6-48c5-8c6a-b3931a2972e9",
   "metadata": {},
   "source": [
    "Q3 Explain in brief the capabilities and services supported by lAN"
   ]
  },
  {
   "cell_type": "markdown",
   "id": "137c4ddd-1a78-45a7-8950-ce6c87975a4a",
   "metadata": {},
   "source": [
    "Ans - Small computer networks that are confined to a localised area(e.g, an office, a building or a factory) are known as local area networks(LANs).The key purpose of a LAN is to serve its users in resource sharing.The hardware as well as software resources are shared through LANs.For instance,LAN users can share data,information,programs,printers,hard-disks,modems etc.One node has a printer connected to it and other nodes on the LAN can communicate with it in ordre to print files and hence allowing expensive peripherals to be shared among numbers of users."
   ]
  },
  {
   "cell_type": "markdown",
   "id": "3251215d-a1a9-4ac7-a0b5-85d0f3300774",
   "metadata": {},
   "source": [
    "Q4 What are routers?"
   ]
  },
  {
   "cell_type": "markdown",
   "id": "c9d3322d-9b7c-4539-b1c1-d241501190fb",
   "metadata": {},
   "source": [
    "Ans  - A device that works like a bridge but can handle different protocols, is known as a router.For example, a router can link Ethernet(ethernet is a very popluar and widely accepted method of linking local stations to one another(i.e., a LAN) for sharing data,programs and equipment resources) to a mainframe."
   ]
  },
  {
   "cell_type": "markdown",
   "id": "f0367482-4de4-473b-8ec5-341382bf99ba",
   "metadata": {},
   "source": [
    "Q5 What are major types of networks and explain?"
   ]
  },
  {
   "cell_type": "markdown",
   "id": "a4bfcea0-435b-4de5-9649-b1cf91cfcf47",
   "metadata": {},
   "source": [
    "Ans  - \n",
    "*Server-based networks\n",
    "*Peer-to-peer network\n",
    "Server-based networks provide centralized control of network resources and rely on server computers to provide security and network administration.\n",
    "Peer-to-peer network,computers can act as both servers sharing resources and as clients using the resources."
   ]
  },
  {
   "cell_type": "markdown",
   "id": "084cbfec-8584-4006-b7ca-1ef06b4b760f",
   "metadata": {},
   "source": [
    "Q6 What is the purpose of using router?"
   ]
  },
  {
   "cell_type": "markdown",
   "id": "9a49bb2d-0e50-4be4-bb17-26529f770861",
   "metadata": {},
   "source": [
    "Ans - A router can work like a bridge and can also handle different protocols.A router can locate the destination required by sending the traffic to another router,if the detination is unknown to itself."
   ]
  },
  {
   "cell_type": "markdown",
   "id": "dce11f3a-b1f0-4fce-975c-d8fd62562122",
   "metadata": {},
   "source": [
    "Q7 What is NIC?"
   ]
  },
  {
   "cell_type": "markdown",
   "id": "24f69407-edd8-4b1a-a434-36d7072ef90a",
   "metadata": {},
   "source": [
    "Ans - NIC stands for Network Interface Card.It is also known as Network Adapter.It is in the form of add-in card and is installed in a computer so that the computer can be connected to a network.\n",
    "Each NIC has a MAC address which helps in identifying the computer on a network."
   ]
  },
  {
   "cell_type": "markdown",
   "id": "5928943b-d840-4a73-9309-446e259840a6",
   "metadata": {},
   "source": [
    "Q8 What is the difference between Hub,Switch, and Router?"
   ]
  },
  {
   "cell_type": "markdown",
   "id": "1c922a6b-6443-45d4-9f20-2d4c90a79cd7",
   "metadata": {},
   "source": [
    "Ans -\n",
    "Hub\n",
    "Hub is the least expensive, lead intelligent and least complcated of the three.It broadcasts all data to every port which may cause serious security and reliablity concern\n",
    "In a Network,Hub is a common connection point for devices connected to the network.Hub contains multiple ports and is used to connect segmets of LAN.\n",
    "Switch\n",
    "Switches work similarly like Hubs but in a more efficient manner.It creates connections dynamically and provides information only to the requesting port.\n",
    "Switch is a device in a network which forwards packets in a network.\n",
    "Router\n",
    "The router is smartest and most complicated out of these three.It comes in all shapes and sizes.Routers are similar like little computers dedicated for routing network traffic.Routers are located at gateway and forwards data packets."
   ]
  },
  {
   "cell_type": "markdown",
   "id": "95a552a9-8f64-456a-88f4-94d489cbcb60",
   "metadata": {},
   "source": [
    "Q9 What are the enabling technologies of IoT systems?"
   ]
  },
  {
   "cell_type": "markdown",
   "id": "bb058a02-b097-4776-b761-4d6312a73567",
   "metadata": {},
   "source": [
    "Ans - \n",
    "IoT system has been enabled through following technologies majorly:\n",
    "    (1)RFID(Radio Frequencies Identification)\n",
    "    (2)Sensors\n",
    "    (3)Network connectivity\n",
    "    (4)Smart technologies"
   ]
  },
  {
   "cell_type": "markdown",
   "id": "f0957c02-d2d2-4215-95af-565b24d4589b",
   "metadata": {},
   "source": [
    "Q10 What are the security concerns related to IoT?"
   ]
  },
  {
   "cell_type": "markdown",
   "id": "3bd10af4-daba-45ec-ba18-37d933f57562",
   "metadata": {},
   "source": [
    "Ans - \n",
    "Data security and privacy are major concerns related to IoT.These devices are vulnerable to hacking and cloud endpoints could be used by hackers to attack servers."
   ]
  }
 ],
 "metadata": {
  "kernelspec": {
   "display_name": "Python 3 (ipykernel)",
   "language": "python",
   "name": "python3"
  },
  "language_info": {
   "codemirror_mode": {
    "name": "ipython",
    "version": 3
   },
   "file_extension": ".py",
   "mimetype": "text/x-python",
   "name": "python",
   "nbconvert_exporter": "python",
   "pygments_lexer": "ipython3",
   "version": "3.10.8"
  }
 },
 "nbformat": 4,
 "nbformat_minor": 5
}
