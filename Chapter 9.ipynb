{
 "cells": [
  {
   "cell_type": "markdown",
   "id": "dc8409b4-6db2-4033-a959-a040ed553bd4",
   "metadata": {},
   "source": [
    "Chapter9: Data structures:Stacks and Queues Using Lists"
   ]
  },
  {
   "cell_type": "markdown",
   "id": "f56b4fa9-7df8-4d02-bceb-9370e97f11dc",
   "metadata": {},
   "source": [
    "Q1 What is Data-Structure?"
   ]
  },
  {
   "cell_type": "markdown",
   "id": "561c44ba-bb03-468c-82dc-9651ea5a2af3",
   "metadata": {},
   "source": [
    "Ans - A data-structure is a logical way for organizing data in memory that considers not only the items stored but also the relationship among the items stored but also the relationship among the items so as to give efficient and optimal performance.In other words, it is a way of oragnizing data such that it can be used efficiently."
   ]
  },
  {
   "cell_type": "markdown",
   "id": "902a36ff-08ef-47ea-a5e5-b6b8a1237747",
   "metadata": {},
   "source": [
    "Q2 Comare a data type using a Data structure."
   ]
  },
  {
   "cell_type": "markdown",
   "id": "e48b8637-4646-4ac9-8b9f-ba5cfcec7ca5",
   "metadata": {},
   "source": [
    "Ans - A Data type defines a set of values along with well-defined operations stating its input-output behavior e.g, you cannot put decimal point in an integer or two strings cannot be multiplied etc.\n",
    "On the other hand, a Data structure is a physical implementation that clearly defines way of storing, accessing, manipulating data stored in a data structure has a specifice data type e.g, in a stack, all insertions and deletions take place at one end only."
   ]
  },
  {
   "cell_type": "markdown",
   "id": "a9a6f3d2-e5b9-4a74-9153-212a6c4b8614",
   "metadata": {},
   "source": [
    "Q3 What are linear and non-linear data structures?"
   ]
  },
  {
   "cell_type": "markdown",
   "id": "c0e55a49-0bf5-4d49-bc97-abf742d82587",
   "metadata": {},
   "source": [
    "Ans - Linear Data structure.A data structure is said to be linear if its elements form a sequence or a linear list, e.g,Arrays or linear lists,Stacks and Queues etc.\n",
    "Non-linear Data structure.A data structure is said to be non-linear if traversal of nodes is nonlinear in nature,e.g, Graphs,Trees etc."
   ]
  },
  {
   "cell_type": "markdown",
   "id": "09ea83e4-6321-48e2-a960-b7546653345a",
   "metadata": {},
   "source": [
    "Q4 What purpose Linear lists data structures are mostly used for?"
   ]
  },
  {
   "cell_type": "markdown",
   "id": "9f8b27d9-91d5-474a-b345-0746f2acbc82",
   "metadata": {},
   "source": [
    "Ans - Linear lists data structures are used to store and process elements that are similar in type and are to be processed in the same way.For example, to maintain a shopping list, a linear list may be used where items to be shopped are inserted to it one by one and as soon as an item is shopped, it is removed from the list."
   ]
  },
  {
   "cell_type": "markdown",
   "id": "c3698d4d-0cdd-4cea-abe1-681f445a56e5",
   "metadata": {},
   "source": [
    "Q5 What is a stack? What basic operations can be performed on them?"
   ]
  },
  {
   "cell_type": "markdown",
   "id": "0fd8cd7a-2fff-48cd-af06-b5501e0889be",
   "metadata": {},
   "source": [
    "Ans - Stack is a basic data-structure where insertion and deletion of data takes place at one end called the top of the stack i.e, it follows the Last In-First Out(LIFO) principle.\n",
    "In Python, a stack is generally implemented with lists.\n",
    "Following basic operations can be peformed on stacks:\n",
    "(1) Push that is insertion of elements in the stack\n",
    "(2) Pop that is Deletion of an element from the stack\n",
    "(3) Peek that is viewing topmost element without removing it\n",
    "(4) Display or view all the elements in the stack"
   ]
  },
  {
   "cell_type": "markdown",
   "id": "bc134142-de74-457b-8c3d-9949001b47e5",
   "metadata": {},
   "source": [
    "Q6 Enlist some applications of queues."
   ]
  },
  {
   "cell_type": "markdown",
   "id": "453c49f3-e36a-4614-abfe-eb8a7aa8d468",
   "metadata": {},
   "source": [
    "Applications of queues include the situations where FIFO property is exploited.Some common applications of queues include:\n",
    "    (1) Sharing of one resource among multiple users or seekers such as shared printer among multiple compuetrs; Call center executive's response among waiting callers etc.\n",
    "    (2) Airport authorities make use of queues in situation of sharing a single runway of airport for both landing and take-off of flights.\n",
    "    (3) CPU uses queues to implement round-robin scheduling among waiting processes.\n",
    "    (4) Queues are used in many computer algorithims also."
   ]
  },
  {
   "cell_type": "markdown",
   "id": "9124b381-6bd0-4e81-9257-30c90fb33d01",
   "metadata": {},
   "source": [
    "Q7 Given a stack as an array of 7 elements STACK: K,P,S,-,-,-\n",
    "(A) When will overflow and underflow occur?\n",
    "(B) Can K be deleted before S? Why?"
   ]
  },
  {
   "cell_type": "markdown",
   "id": "fae9e534-1bfb-4eb6-a50c-bc0f151593db",
   "metadata": {},
   "source": [
    "Ans - \n",
    "(1) Overflow will occur when stack will be having 7 elements and there would be no space to insert a new element.\n",
    "Underflow will occur when all the elements will have been deleted from the stack and no more element could be deleted.\n",
    "(2) K cannot be deleted before S.As S has been inserted after K and stack follows the LIFO rule i.e, Last In First Out, therefore S will be deleted before K"
   ]
  },
  {
   "cell_type": "markdown",
   "id": "be945f9c-5e55-4c1f-bba4-ce62ff159e92",
   "metadata": {},
   "source": [
    "Q8 What are queues? What all operations can be performed on queues?"
   ]
  },
  {
   "cell_type": "markdown",
   "id": "e39e7484-eccc-4484-9c6f-960995153244",
   "metadata": {},
   "source": [
    "Ans -\n",
    "Queues are the data structures where data is entered into the queue at one end- the rear end and deleted from the other end -  the front end, i.e, these follow First In-First Out(FIFO) principle.Following basic operations can be performed on queues:\n",
    "(1)Enqueue that is, insertion of an element in the queue\n",
    "(2)Dequeue that is, deletion of an element from the queue\n",
    "(3)Peek that is, viewing frontmost element without removing it\n",
    "(4)Display or view all the elements in the queue"
   ]
  },
  {
   "cell_type": "markdown",
   "id": "197c8c19-86fa-40ea-b65d-50072eb97fb1",
   "metadata": {},
   "source": [
    "Q9 Write a function in Python, INSERTION(Arr,data) and DELETION(Arr) for performming insertion and deletion operations in as Queue.Arr is the list used for implementing queue and data is the value to be inserted."
   ]
  },
  {
   "cell_type": "code",
   "execution_count": null,
   "id": "832d77fa-c7a4-4b61-b5d1-438c85f5f75d",
   "metadata": {},
   "outputs": [],
   "source": [
    "#Ans -\n",
    "def INSERTQ(Arr):\n",
    "    data = int(input(\"Enter data to be inserted:\"))\n",
    "    Arr.append(data)\n",
    "def DELETEQ(Arr):\n",
    "    if(Arr == []):\n",
    "        print(\"Queue empty\")\n",
    "    else:\n",
    "        print(\"Deleted element is:\", Arr[0])\n",
    "        del(Arr[0])"
   ]
  },
  {
   "cell_type": "markdown",
   "id": "486caf5d-2023-4796-a544-c6ddf396f8c9",
   "metadata": {},
   "source": [
    "Q10 Write a function in python,MakePush(Package) and MakePop(Package) to add a new Package and delete a Package from a list of package Description, considering them to act as push and pop operations of the Stack data structure."
   ]
  },
  {
   "cell_type": "code",
   "execution_count": null,
   "id": "35d95ede-2d0b-42b3-b6bf-df3dfa7ec9b6",
   "metadata": {},
   "outputs": [],
   "source": [
    "Ans -\n",
    "def MakePush(Package):\n",
    "    a = int(input(\"Enter package title:\"))\n",
    "    package.append(a)\n",
    "def MakePop(Package):\n",
    "    if (package ==[]):\n",
    "        print(\"Stack empty\")\n",
    "    else:\n",
    "        print(\"Deleted element:\",Package.pop())"
   ]
  }
 ],
 "metadata": {
  "kernelspec": {
   "display_name": "Python 3 (ipykernel)",
   "language": "python",
   "name": "python3"
  },
  "language_info": {
   "codemirror_mode": {
    "name": "ipython",
    "version": 3
   },
   "file_extension": ".py",
   "mimetype": "text/x-python",
   "name": "python",
   "nbconvert_exporter": "python",
   "pygments_lexer": "ipython3",
   "version": "3.10.8"
  }
 },
 "nbformat": 4,
 "nbformat_minor": 5
}
