{
 "cells": [
  {
   "cell_type": "markdown",
   "id": "678f0ce1-2fe1-494e-828a-067765454437",
   "metadata": {},
   "source": [
    "Chapter7: Idea of Algorithmic Efficiency"
   ]
  },
  {
   "cell_type": "markdown",
   "id": "71f34c47-d4c9-432b-b722-71e3afff14eb",
   "metadata": {},
   "source": [
    "Q1 Define Big'O' notations.State the two factors which determine the complexity of an algorithim."
   ]
  },
  {
   "cell_type": "markdown",
   "id": "0f07f50d-7867-4889-b527-678ec68c8981",
   "metadata": {},
   "source": [
    "Ans - Big O notations is a particular tool for assessing algorithim efficiency.It describes the performance or complexity of an algorithim denoted via Big O, eg O(1), O(N), O(N log N)etc.\n",
    "Performance of an algorithim depends on many internals and externals factors.\n",
    "Internal Factors specify algorithim's efficiency in terms of :\n",
    "*Time required to run\n",
    "*Space required to run\n",
    "\n",
    "External Factors affect the algorithim's performance.These include:\n",
    "*Size of the input to the algorithim\n",
    "*Speed of the computer on which it is run\n",
    "*Quality of the computer"
   ]
  },
  {
   "cell_type": "markdown",
   "id": "e09af70d-6e30-46c4-a151-eebec5553b50",
   "metadata": {},
   "source": [
    "Q2 Consider the following three algorithim for determining whether anyone in the room has the same birthdays as you.\n",
    "Algorithim 1:\n",
    "You say your birthday, and ask whether anyone in the room has the same birthday.If anyone does have the same birthday, they answer yes.\n",
    "Algorithim 2:\n",
    "You tell the second person your birthday and ask whether they have the same birthday; and so forth, for each person in the room.\n",
    "Algorithim 3:\n",
    "You only ask question of person 1, who only ask questions of person 2, who only asks questions of person3, etc.You tell person 1 your birthday, and ask if they have the same boirthday; if they say no, you ask them to find out about person 2.\n",
    "Person 1 asks person 2 and tells you the answer,If it is no, you ask person 1 to find out about person 3.Person 1 asks person 2 to find out about person 3, etc."
   ]
  },
  {
   "cell_type": "markdown",
   "id": "086a8f66-0dff-48c4-a842-e4b6b5f504f9",
   "metadata": {},
   "source": [
    "(1) What is the factor that can affect the number of questions asked(the \"problem size\")?\n",
    "(2) In the worst case, how many questions will be asked for each of the three algorithim?\n",
    "(3) For each algorithim, say whether it is constant, linear, or quadratic in the problem size in the worst case."
   ]
  },
  {
   "cell_type": "markdown",
   "id": "ed70811b-0d76-43fa-8ed2-01367ab03671",
   "metadata": {},
   "source": [
    "Ans - \n",
    "(1) The problem size is the number of people in the room.\n",
    "(2) Assume there are N people in the room.in algorithim 1 you always ask 1 question.In algorithim 2, the worst case is if no one has your birthday.Here you have to ask every person to figure this out.This means you have to ask N questions.In algorithim 3, the worst case is the same as algorithim 2.The number of questions is 1+2+3+...+N-1+N.This sum is N(N+1)/2, using formula for sum of first N natural numbers.\n",
    "(3) Given the number of questions you can see that algorithim 1 is constant time, algorithim 2 is linear time, and algorithim"
   ]
  },
  {
   "cell_type": "markdown",
   "id": "318e076d-8664-4e54-b574-a1c8357bd6ce",
   "metadata": {},
   "source": [
    "Q3 Distinguish between worst-case and best case complexity of an algorithim."
   ]
  },
  {
   "cell_type": "markdown",
   "id": "6212f024-347c-4878-abc9-29209132cf45",
   "metadata": {},
   "source": [
    "Ans - The worst-case complexity of an algorithim is the function defined by the maximun=m number of steps taken on any instance of size n.It represents the curve passing through the lowest point of each column.\n",
    "The best-case complexity of the algorithim is the function defined by the minimum number of steps taken on any instance of size n.It represents the curve passing through the lowest point of each column."
   ]
  },
  {
   "cell_type": "markdown",
   "id": "c6f67608-c7f6-4b55-951c-3cf79027b7ad",
   "metadata": {},
   "source": [
    "Q4(1) Give the meaning of the following common expression in Big O notation: O(N); O(N^2)\n",
    "(2) List any two cases to analyze algorithim complexities."
   ]
  },
  {
   "cell_type": "markdown",
   "id": "47622b66-d313-41e5-b19b-e2bc0e11cfda",
   "metadata": {},
   "source": [
    "Ans - \n",
    "(1) O(N) describes an algorithim whose performance will grow linearly and in direct proportion to the size of the input data set.\n",
    "O(N^2) represents an algorithim whose performance is directly proportional to the sqaure of the size of the input data set.This is common with algorithims that involve nested iterations over the data set.\n",
    "(2) The effiecinecy of an algorithim is deteremined through algorithim complexity.Two common caes to analyse algorithim complexities are:\n",
    "*sorting algorithim\n",
    "*Searching algorithim"
   ]
  },
  {
   "cell_type": "markdown",
   "id": "5d18a032-2c43-4af2-9876-ccf56ff3687d",
   "metadata": {},
   "source": [
    "Q5 What is computational complecxity?"
   ]
  },
  {
   "cell_type": "markdown",
   "id": "30595bd5-59ab-4011-95b0-a98c3eeec40e",
   "metadata": {},
   "source": [
    "Ans - Computational complexity is the study of the resources (like time and space) required for algorithms to solve problems. It helps determine how efficient an algorithm is as the input size grows."
   ]
  },
  {
   "cell_type": "code",
   "execution_count": null,
   "id": "34e0b454-4ab3-4e1e-9310-a6506bf04d48",
   "metadata": {},
   "outputs": [],
   "source": []
  }
 ],
 "metadata": {
  "kernelspec": {
   "display_name": "Python 3 (ipykernel)",
   "language": "python",
   "name": "python3"
  },
  "language_info": {
   "codemirror_mode": {
    "name": "ipython",
    "version": 3
   },
   "file_extension": ".py",
   "mimetype": "text/x-python",
   "name": "python",
   "nbconvert_exporter": "python",
   "pygments_lexer": "ipython3",
   "version": "3.10.8"
  }
 },
 "nbformat": 4,
 "nbformat_minor": 5
}
